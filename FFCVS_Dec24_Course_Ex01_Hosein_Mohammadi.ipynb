{
  "nbformat": 4,
  "nbformat_minor": 0,
  "metadata": {
    "colab": {
      "provenance": [],
      "authorship_tag": "ABX9TyP+ckx7V0p4ZetdVum03CR+",
      "include_colab_link": true
    },
    "kernelspec": {
      "name": "python3",
      "display_name": "Python 3"
    },
    "language_info": {
      "name": "python"
    }
  },
  "cells": [
    {
      "cell_type": "markdown",
      "metadata": {
        "id": "view-in-github",
        "colab_type": "text"
      },
      "source": [
        "<a href=\"https://colab.research.google.com/github/hoseinm444/FanapExercises/blob/main/FFCVS_Dec24_Course_Ex01_Hosein_Mohammadi.ipynb\" target=\"_parent\"><img src=\"https://colab.research.google.com/assets/colab-badge.svg\" alt=\"Open In Colab\"/></a>"
      ]
    },
    {
      "cell_type": "markdown",
      "source": [
        "#Python Basics"
      ],
      "metadata": {
        "id": "hmEtewq0cUC2"
      }
    },
    {
      "cell_type": "markdown",
      "source": [
        "##Exercise 01\n",
        "What is the type of the following data?\n",
        "\n",
        "1.\"Filoger\"\n",
        "\n",
        "2.\"19.0\"\n",
        "\n",
        "3.18\n",
        "\n",
        "4.13.0\n",
        "\n",
        "5.True\n"
      ],
      "metadata": {
        "id": "-z_kRfdkcZ21"
      }
    },
    {
      "cell_type": "code",
      "source": [
        "data_one=\"Filoger\"\n",
        "print(\"data one type is {0}\".format(type(data_one)))\n",
        "data_two=\"19.0\"\n",
        "print(\"data two type is {0}\".format(type(data_two)))\n",
        "data_three=18\n",
        "print(\"data three type is {0}\".format(type(data_three)))\n",
        "data_four=13.0\n",
        "print(\"data four type is {0}\".format(type(data_four)))\n",
        "data_five=True\n",
        "print(\"data five type is {0}\".format(type(data_five)))"
      ],
      "metadata": {
        "colab": {
          "base_uri": "https://localhost:8080/"
        },
        "id": "1nKjmi8Icp2e",
        "outputId": "bdc6d85c-7930-4775-d0a2-121de25a9281"
      },
      "execution_count": null,
      "outputs": [
        {
          "output_type": "stream",
          "name": "stdout",
          "text": [
            "data one type is <class 'str'>\n",
            "data two type is <class 'str'>\n",
            "data three type is <class 'int'>\n",
            "data four type is <class 'float'>\n",
            "data five type is <class 'bool'>\n"
          ]
        }
      ]
    },
    {
      "cell_type": "markdown",
      "source": [
        "##Exercise 02\n",
        "Convert the following data to integer?\n",
        "\n",
        "1.\"Filoger\"\n",
        "\n",
        "2.\"19.0\"\n",
        "\n",
        "3.18\n",
        "\n",
        "4.13.0\n",
        "\n",
        "5.True\n"
      ],
      "metadata": {
        "id": "mcTyL5L7etdV"
      }
    },
    {
      "cell_type": "code",
      "source": [
        "data_one=\"Filoger\"\n",
        "print(\"data one convertation :{0}\".format(\"can't convert str to int\" ))\n",
        "data_two='19.0'\n",
        "convert_data_two = float(data_two)\n",
        "print(\"data two convertation is {0}\".format( type(int(convert_data_two)) )  )\n",
        "data_three=18\n",
        "print(\"data three convertation is {0}\".format( type(int(data_three)) ))\n",
        "data_four=13.0\n",
        "print(\"data four convertation is {0}\".format(type(int(data_four))))\n",
        "data_five=True\n",
        "print(\"data five convertation is {0}\".format(type(int(data_five))))"
      ],
      "metadata": {
        "colab": {
          "base_uri": "https://localhost:8080/"
        },
        "id": "BwFnwLWoe8u6",
        "outputId": "db623e47-e95d-4335-be1e-d18569b722bf"
      },
      "execution_count": null,
      "outputs": [
        {
          "output_type": "stream",
          "name": "stdout",
          "text": [
            "data one convertation :can't convert str to int\n",
            "data two convertation is <class 'int'>\n",
            "data three convertation is <class 'int'>\n",
            "data four convertation is <class 'int'>\n",
            "data five convertation is <class 'int'>\n"
          ]
        }
      ]
    },
    {
      "cell_type": "markdown",
      "source": [
        "##Exercise 03 (Search!)\n",
        "Print running time of program to find type of the following data ?\n",
        "\n",
        "1.\"Filoger\"\n",
        "\n",
        "2.\"19.0\"\n",
        "\n",
        "3.18\n",
        "\n",
        "4.13.0\n",
        "\n",
        "5.True"
      ],
      "metadata": {
        "id": "nZXfNxWoxXle"
      }
    },
    {
      "cell_type": "code",
      "source": [
        "import time\n",
        "start_time = time.time()\n",
        "data_one=\"Filoger\"\n",
        "print(\"data one type is {0}\".format(type(data_one)))\n",
        "data_two=\"19.0\"\n",
        "print(\"data two type is {0}\".format(type(data_two)))\n",
        "data_three=18\n",
        "print(\"data three type is {0}\".format(type(data_three)))\n",
        "data_four=13.0\n",
        "print(\"data four type is {0}\".format(type(data_four)))\n",
        "data_five=True\n",
        "print(\"data five type is {0}\".format(type(data_five)))\n",
        "end_time = time.time()\n",
        "execution_time =   end_time - start_time\n",
        "print(\" running time of program:\",execution_time)"
      ],
      "metadata": {
        "colab": {
          "base_uri": "https://localhost:8080/"
        },
        "id": "Qh7m1NbBxx-d",
        "outputId": "3760392b-21be-49f3-fe41-e442d8be0a6d"
      },
      "execution_count": null,
      "outputs": [
        {
          "output_type": "stream",
          "name": "stdout",
          "text": [
            "data one type is <class 'str'>\n",
            "data two type is <class 'str'>\n",
            "data three type is <class 'int'>\n",
            "data four type is <class 'float'>\n",
            "data five type is <class 'bool'>\n",
            " running time of program: 0.006323814392089844\n"
          ]
        }
      ]
    },
    {
      "cell_type": "markdown",
      "source": [
        "##Exercise 04\n",
        "Get a number as circle diameter, and calculate the circle area!\n",
        "\n",
        "Points:\n",
        "*  Use input method to get circle diameter!\n",
        "*  Use str.format() method to print the output!\n",
        "*  Output must be same as following example, exactly!\n",
        "\n",
        "\n",
        "\n",
        "\n",
        "\n",
        "\n"
      ],
      "metadata": {
        "id": "2HAaTGBU08B2"
      }
    },
    {
      "cell_type": "code",
      "source": [
        "#print(\"Please Enter Circle Diameter:\")\n",
        "circle_diameter =int(input())\n",
        "circle_radius= circle_diameter / 2\n",
        "circle_area=(circle_radius**2) * 3.14\n",
        "print(\"input :{0} , output(print) : circle area is {1}\".format(circle_diameter,\"%.3f\" %circle_area))"
      ],
      "metadata": {
        "colab": {
          "base_uri": "https://localhost:8080/"
        },
        "id": "BqpyW6f71RpZ",
        "outputId": "674709c8-666c-4279-e301-bc8254b34982"
      },
      "execution_count": null,
      "outputs": [
        {
          "output_type": "stream",
          "name": "stdout",
          "text": [
            "18\n",
            "input :18 , output(print) : circle area is 254.340\n"
          ]
        }
      ]
    },
    {
      "cell_type": "markdown",
      "source": [
        "##Exercise 05\n",
        "Get width, height and length ,then calculate and print the surface area and volume of a cuboid!"
      ],
      "metadata": {
        "id": "yywKQaLZ6GT0"
      }
    },
    {
      "cell_type": "code",
      "source": [
        "#print(\"Please Enter width :\")\n",
        "width_cuboid=int(input())\n",
        "#print(\"Please Enter height :\")\n",
        "height_cuboid=int(input())\n",
        "#print(\"Please Enter length :\")\n",
        "length_cuboid=int(input())\n",
        "\n",
        "volume_cuboid=float(width_cuboid * height_cuboid * length_cuboid)\n",
        "surface_cuboid =\"%.2f\" %float(( ((width_cuboid*height_cuboid) + (width_cuboid*length_cuboid) +(length_cuboid*height_cuboid) )*2 ))\n",
        "print(\"input1:{0} , input2:{1} , input3:{2} , output(print) : volume of cuboid is  {3} and Surface area of cuboid is {4} !\"\\\n",
        "      .format(width_cuboid,height_cuboid,length_cuboid,\"%.2f\" %volume_cuboid,surface_cuboid))\n"
      ],
      "metadata": {
        "colab": {
          "base_uri": "https://localhost:8080/"
        },
        "id": "DLx_Sa_Z6cjj",
        "outputId": "50ba9bed-d9ee-49e6-a15c-387337ffc5c5"
      },
      "execution_count": null,
      "outputs": [
        {
          "output_type": "stream",
          "name": "stdout",
          "text": [
            "18\n",
            "4\n",
            "5\n",
            "input1:18 , input2:4 , input3:5 , output(print) : volume of cuboid is  360.00 and Surface area of cuboid is 364.00 !\n"
          ]
        }
      ]
    },
    {
      "cell_type": "markdown",
      "source": [
        "##Exercise 06\n",
        "input(2 number) and print sum, division, subtraction, multiplication"
      ],
      "metadata": {
        "id": "Gyt9goDxB_sp"
      }
    },
    {
      "cell_type": "code",
      "source": [
        "#print(\"Please Enter number1 :\")\n",
        "number_one=int(input())\n",
        "#print(\"Please Enter number2 :\")\n",
        "number_two=int(input())\n",
        "\n",
        "sum=number_one + number_two\n",
        "division=int(number_one / number_two)\n",
        "subtraction=number_one - number_two\n",
        "multiplication=number_one * number_two\n",
        "\n",
        "print(\"input_1 :{0} , input_2 :{1} , output: sum = {2} , division={3} , subtraction={4} , multiplication={5} \"\\\n",
        "      .format(number_one,number_two,sum,division,subtraction,multiplication))"
      ],
      "metadata": {
        "colab": {
          "base_uri": "https://localhost:8080/"
        },
        "id": "rtKWmX79CbrG",
        "outputId": "ac6cf7f5-63b8-44ba-9199-bc3c875e684c"
      },
      "execution_count": null,
      "outputs": [
        {
          "output_type": "stream",
          "name": "stdout",
          "text": [
            "8\n",
            "4\n",
            "input_1 :8 , input_2 :4 , output: sum = 12 , division=2 , subtraction=4 , multiplication=32 \n"
          ]
        }
      ]
    },
    {
      "cell_type": "markdown",
      "source": [
        "##Exercise 07\n",
        "Get two string, concatenate them and print the result!"
      ],
      "metadata": {
        "id": "6WBRGK2dRBsm"
      }
    },
    {
      "cell_type": "code",
      "source": [
        "#print(\"Please Enter string1 :\")\n",
        "string_1=input()\n",
        "#print(\"Please Enter string2 :\")\n",
        "string_2=input()\n",
        "\n",
        "concat_string = \"string_1\" +\" \"+ \"string_2\"\n",
        "\n",
        "print('input_1 :{0} , input_2 :{1} , output: result is \"{2}\" '\\\n",
        "      .format(string_1,string_2,concat_string))"
      ],
      "metadata": {
        "colab": {
          "base_uri": "https://localhost:8080/"
        },
        "id": "KNd885iYRKds",
        "outputId": "125b177b-48ca-4aa2-e9cd-513b09609db8"
      },
      "execution_count": null,
      "outputs": [
        {
          "output_type": "stream",
          "name": "stdout",
          "text": [
            "string_1\n",
            "string_2\n",
            "input_1 :string_1 , input_2 :string_2 , output: result is \"string_1 string_2\" \n"
          ]
        }
      ]
    },
    {
      "cell_type": "markdown",
      "source": [
        "##Exercise 08\n",
        "Write a Python program to convert Fahrenheit to Celcius."
      ],
      "metadata": {
        "id": "E2Urzhq9UQAI"
      }
    },
    {
      "cell_type": "code",
      "source": [
        "#print(\"Please Enter Fahrenheit :\")\n",
        "fahrenheit_value= int(input())\n",
        "#F to C (°F − 32) / 1.8\n",
        "fahrenheit_to_celcius = float((fahrenheit_value - 32) / 1.8)\n",
        "print('input :{0} , output: {0} degree Fahrenheit is equal to {1} degree Celsius. '\\\n",
        "      .format(fahrenheit_value,fahrenheit_to_celcius))"
      ],
      "metadata": {
        "colab": {
          "base_uri": "https://localhost:8080/"
        },
        "id": "SVUbPCHiUbX0",
        "outputId": "857d01ce-38ea-4d34-b919-9c1c6edb9502"
      },
      "execution_count": null,
      "outputs": [
        {
          "output_type": "stream",
          "name": "stdout",
          "text": [
            "86\n",
            "input :86 , output: 86 degree Fahrenheit is equal to 30.0 degree Celsius. \n"
          ]
        }
      ]
    },
    {
      "cell_type": "markdown",
      "source": [
        "##Exercise 09 (Search)\n",
        "\n",
        "Find the max element of the [ 8, 120, 83, 89, 24, 97.5, 201 ]\n",
        "\n"
      ],
      "metadata": {
        "id": "0IGyWa7iX06m"
      }
    },
    {
      "cell_type": "code",
      "source": [
        "list =[ 8, 120, 83, 89, 24, 97.5, 201]\n",
        "\n",
        "max_value=list[0]\n",
        "for element in range(len(list)) :\n",
        "   if(list[element] >= max_value ):\n",
        "       max_value = list[element]\n",
        "       print(max_value)\n",
        "   #else:\n",
        "       #list[element+1]\n",
        "     #  max_value = list[element-1]\n",
        "print('output:{0}'.format(max_value))"
      ],
      "metadata": {
        "colab": {
          "base_uri": "https://localhost:8080/"
        },
        "id": "9suM8fqzdaWz",
        "outputId": "632d35ab-3621-4b44-b8f5-e3b80f5a5cc5"
      },
      "execution_count": null,
      "outputs": [
        {
          "output_type": "stream",
          "name": "stdout",
          "text": [
            "8\n",
            "120\n",
            "201\n",
            "output:201\n"
          ]
        }
      ]
    },
    {
      "cell_type": "markdown",
      "source": [
        "##Exercise 10\n",
        "\n",
        "Write a program in Python to display the Factorial of a number."
      ],
      "metadata": {
        "id": "agGUibGZYbJk"
      }
    },
    {
      "cell_type": "code",
      "source": [
        "#print(\"Please Enter number :\")\n",
        "number= int(input())\n",
        "factorial_result =0\n",
        "if number <=1  :\n",
        "  factorial_result =1\n",
        "else:\n",
        "  factorial_result=1\n",
        "  for i in range(1, number+1):\n",
        "    factorial_result = factorial_result * i\n",
        "\n",
        "print('input :{0} , output: Factorial of {0} is {1}. '.format(number,factorial_result))\n"
      ],
      "metadata": {
        "colab": {
          "base_uri": "https://localhost:8080/"
        },
        "id": "IHJFJtoiYhwG",
        "outputId": "e1677920-431b-4771-ce58-0de1a90e101f"
      },
      "execution_count": null,
      "outputs": [
        {
          "output_type": "stream",
          "name": "stdout",
          "text": [
            "9\n",
            "input :9 , output: Factorial of 9 is 362880. \n"
          ]
        }
      ]
    },
    {
      "cell_type": "markdown",
      "source": [
        "##Exercise 11\n",
        "\n",
        "Generate random integer number and Write a program to guess the number."
      ],
      "metadata": {
        "id": "yMqiNzy9hIG7"
      }
    },
    {
      "cell_type": "code",
      "source": [
        "import random\n",
        "\n",
        "print(\"Please Enter your guessed number :\")\n",
        "guessed_num=int(input())\n",
        "generated_num = random.randint(1,100)\n",
        "output_message= ''\n",
        "print('generated number is : {0}'.format(generated_num))\n",
        "\n",
        "if guessed_num > generated_num :\n",
        "  output_message = 'Wrong, Guess the lower number!'\n",
        "elif guessed_num < generated_num:\n",
        "  output_message = 'Wrong, Guess the higher number!'\n",
        "else:\n",
        "   output_message = 'Correct, good job'\n",
        "\n",
        "\n",
        "print('Generated Number: {0} , Guessed Number: {1}, output: {2} '\\\n",
        "      .format(generated_num,guessed_num,output_message))"
      ],
      "metadata": {
        "colab": {
          "base_uri": "https://localhost:8080/"
        },
        "id": "CDbifwjohli1",
        "outputId": "5683d555-3318-4de5-dd35-c7f3a99d1caf"
      },
      "execution_count": null,
      "outputs": [
        {
          "output_type": "stream",
          "name": "stdout",
          "text": [
            "Please Enter your guessed number :\n",
            "81\n",
            "generated number is : 99\n",
            "Generated Number: 99 , Guessed Number: 81, output: Wrong, Guess the higher number! \n"
          ]
        }
      ]
    },
    {
      "cell_type": "markdown",
      "source": [
        "##Exercise 12\n",
        "Print the following pattern using loops.\n",
        "\n",
        "0 x 0 = 0\n",
        "\n",
        "1 x 1 = 1\n",
        "\n",
        "2 x 2 = 4\n",
        "\n",
        "3 x 3 = 9\n",
        "\n",
        "4 x 4 = 16\n",
        "\n",
        "5 x 5 = 25\n",
        "\n",
        "6 x 6 = 36\n",
        "\n",
        "7 x 7 = 49\n",
        "\n",
        "8 x 8 = 64\n",
        "\n",
        "9 x 9 = 81\n",
        "\n",
        "10 x 10 = 100"
      ],
      "metadata": {
        "id": "J1NxwTk1hMUE"
      }
    },
    {
      "cell_type": "code",
      "source": [
        "for i in range(0,11):\n",
        "    print('{0} x {1} = {2}'.format(i,i,i*i))"
      ],
      "metadata": {
        "colab": {
          "base_uri": "https://localhost:8080/"
        },
        "id": "tiwyMlsnlw8n",
        "outputId": "e8f29406-6171-4281-987e-78b7aeff4acc"
      },
      "execution_count": null,
      "outputs": [
        {
          "output_type": "stream",
          "name": "stdout",
          "text": [
            "0 x 0 = 0\n",
            "1 x 1 = 1\n",
            "2 x 2 = 4\n",
            "3 x 3 = 9\n",
            "4 x 4 = 16\n",
            "5 x 5 = 25\n",
            "6 x 6 = 36\n",
            "7 x 7 = 49\n",
            "8 x 8 = 64\n",
            "9 x 9 = 81\n",
            "10 x 10 = 100\n"
          ]
        }
      ]
    },
    {
      "cell_type": "markdown",
      "source": [
        "##Exercise 13\n",
        "\n",
        "Use for loop to iterate from 0 to n (input number) and print the sum of all numbers."
      ],
      "metadata": {
        "id": "TZy9Cie6mlnl"
      }
    },
    {
      "cell_type": "code",
      "source": [
        "print(\"Please Enter your number :\")\n",
        "input_num=int(input())\n",
        "sum_value=0\n",
        "\n",
        "for i in range(0,input_num+1):\n",
        "   sum_value +=i\n",
        "\n",
        "\n",
        "print('Input Number: {0}, output: The sum of all numbers is {1}. '\\\n",
        "      .format(input_num,sum_value))"
      ],
      "metadata": {
        "colab": {
          "base_uri": "https://localhost:8080/"
        },
        "id": "l99VJYs2mvkd",
        "outputId": "8f0f4860-1c77-45e6-c16e-468905052783"
      },
      "execution_count": null,
      "outputs": [
        {
          "output_type": "stream",
          "name": "stdout",
          "text": [
            "Please Enter your number :\n",
            "100\n",
            "Input Number: 100, output: The sum of all numbers is 5050. \n"
          ]
        }
      ]
    },
    {
      "cell_type": "markdown",
      "source": [
        "##Exercise 14 (Search)\n",
        "\n",
        "This is a fruit list, ['banana', 'orange', 'mango', 'lemon'] reverse the order using loop"
      ],
      "metadata": {
        "id": "JFeR_0BFoz9l"
      }
    },
    {
      "cell_type": "code",
      "source": [
        "fruit_list = ['banana', 'orange', 'mango', 'lemon']\n",
        "\n",
        "second_order=['banana', 'orange', 'mango', 'lemon']\n",
        "#backward loop\n",
        "j=0\n",
        "for i in reversed(range(len(fruit_list))):\n",
        "    second_order[j]=fruit_list[i]\n",
        "    j +=1\n",
        "j=0\n",
        "\n",
        "for j in range(len(second_order)):\n",
        "       print( second_order[j])\n",
        "\n",
        "#also we can do this\n",
        "print('\\n other solutions :')\n",
        "for i in reversed(range(len(fruit_list))):\n",
        "  print(fruit_list[i])"
      ],
      "metadata": {
        "colab": {
          "base_uri": "https://localhost:8080/"
        },
        "id": "dZeVDVFwpCm-",
        "outputId": "59c32696-edf0-4556-bd83-cbc4e7e8c8e1"
      },
      "execution_count": null,
      "outputs": [
        {
          "output_type": "stream",
          "name": "stdout",
          "text": [
            "lemon\n",
            "mango\n",
            "orange\n",
            "banana\n",
            "\n",
            " other solutions :\n",
            "lemon\n",
            "mango\n",
            "orange\n",
            "banana\n"
          ]
        }
      ]
    }
  ]
}
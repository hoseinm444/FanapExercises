{
  "nbformat": 4,
  "nbformat_minor": 0,
  "metadata": {
    "colab": {
      "provenance": [],
      "collapsed_sections": [
        "Pe3WjJkXAI4i",
        "419W634Ic3Jo",
        "fUwFMQTPgc01",
        "aWeElhSVqzKJ",
        "bYzxO-86cJIe",
        "tk0sxmOHQ_qM"
      ],
      "authorship_tag": "ABX9TyMKgcclCHw5eXMuWsah0E0d",
      "include_colab_link": true
    },
    "kernelspec": {
      "name": "python3",
      "display_name": "Python 3"
    },
    "language_info": {
      "name": "python"
    }
  },
  "cells": [
    {
      "cell_type": "markdown",
      "metadata": {
        "id": "view-in-github",
        "colab_type": "text"
      },
      "source": [
        "<a href=\"https://colab.research.google.com/github/hoseinm444/FanapExercises/blob/main/FFCVS_Dec23_Python_Ex02_Hosein_Mohammadi.ipynb\" target=\"_parent\"><img src=\"https://colab.research.google.com/assets/colab-badge.svg\" alt=\"Open In Colab\"/></a>"
      ]
    },
    {
      "cell_type": "markdown",
      "source": [
        "#Python Basics"
      ],
      "metadata": {
        "id": "2I9rhc5u_6pw"
      }
    },
    {
      "cell_type": "markdown",
      "source": [
        "##Exercise 01\n",
        "\n",
        "\n",
        "The following is a list of 10 students ages:\n",
        "\n",
        "ages = [19, 22, 19, 24, 20, 25, 26, 24, 25, 24]\n",
        "\n",
        "1.Sort the list and find the min and max age. (50)\n",
        "\n",
        "2.Add the min age and the max age again to the list.(50)\n",
        "\n",
        "3.Find the median age (one middle item or two middle items divided by two).(100)\n",
        "\n",
        "4.Find the average age (sum of all items divided by their number ).(100)\n",
        "\n",
        "5.Find the range of the ages (max minus min).(50)\n",
        "\n",
        "6.Compare the value of (min - average) and (max - average), use abs() method.(100)\n"
      ],
      "metadata": {
        "id": "Pe3WjJkXAI4i"
      }
    },
    {
      "cell_type": "code",
      "source": [
        "from sre_constants import MAX_REPEAT\n",
        "ages = [19, 22, 19, 24, 20, 25, 26, 24, 25, 24]\n",
        "#sort , min , max\n",
        "max_value=ages[0]\n",
        "min_value=ages[0]\n",
        "for i in range(len(ages)) :\n",
        "   if(ages[i] >= max_value ):\n",
        "          max_value = ages[i]\n",
        "   if(ages[i] <= min_value):\n",
        "       min_value = ages[i]\n",
        "print('max is :{0} min is :{1}'.format(max_value,min_value))\n",
        "\n",
        "print('sorting :')\n",
        "for i in range(len(ages)):\n",
        "  for j in range(len(ages)):\n",
        "     if(ages[i] < ages[j]):\n",
        "       temp_value_one = ages[j]\n",
        "       temp_value_two = ages[i]\n",
        "       ages[j]=temp_value_two\n",
        "       ages[i]=temp_value_one\n",
        "\n",
        "for i in range(len(ages)):\n",
        "    print(ages[i])\n",
        "##############################################################\n",
        "ages.append(min_value)\n",
        "ages.append(max_value)\n",
        "##############################################################\n",
        "# Median age\n",
        "median_len=int(len(ages)/2)\n",
        "if median_len % 2 == 0 :\n",
        "   median_value = (ages[median_len] + ages[median_len+1]) / 2\n",
        "   print(f'median is : {median_value}')\n",
        "else:\n",
        "  median_value = ages[median_len]\n",
        "  print(f'median is : {median_value}')\n",
        "##############################################################\n",
        "# Average age\n",
        "sum =0\n",
        "for i in range(len(ages)):\n",
        "   sum += ages[i]\n",
        "average_value = sum / int(len(ages))\n",
        "print(f'Average is : {average_value}')\n",
        "##############################################################\n",
        "#  range of the ages\n",
        "range_age_value = max_value - min_value\n",
        "print(f'range of the ages : {range_age_value}')\n",
        "##############################################################\n",
        "# Compare the value of (min - average) and (max - average)\n",
        "min_compare = abs(min_value-average_value)\n",
        "print(f'abs (min - average) : {min_compare}')\n",
        "max_compare = abs(max_value-average_value)\n",
        "print(f'abs (max - average) : {max_compare}')"
      ],
      "metadata": {
        "colab": {
          "base_uri": "https://localhost:8080/"
        },
        "id": "RMpGpx3nATr5",
        "outputId": "aa87c800-9bd3-4b60-ddb4-8eca5d7354dc"
      },
      "execution_count": null,
      "outputs": [
        {
          "output_type": "stream",
          "name": "stdout",
          "text": [
            "max is :26 min is :19\n",
            "sorting :\n",
            "19\n",
            "19\n",
            "20\n",
            "22\n",
            "24\n",
            "24\n",
            "24\n",
            "25\n",
            "25\n",
            "26\n",
            "median is : 24.5\n",
            "Average is : 22.75\n",
            "range of the ages : 7\n",
            "abs (min - average) : 3.75\n",
            "abs (max - average) : 3.25\n"
          ]
        }
      ]
    },
    {
      "cell_type": "markdown",
      "source": [
        "##Exercise 02\n",
        "\n",
        "1.Create an empty tuple (50)\n",
        "\n",
        "2.Create a tuple containing names of your sisters and your brothers, separately (imaginary siblings are fine) (100)\n",
        "\n",
        "3.Join brothers and sisters tuples and assign it to siblings (100)\n",
        "\n",
        "4.How many siblings do you have? (50)\n",
        "\n",
        "5.Modify the siblings tuple and add the name of your father and mother and assign it to family_members (100)"
      ],
      "metadata": {
        "id": "419W634Ic3Jo"
      }
    },
    {
      "cell_type": "code",
      "source": [
        "###############################################################\n",
        "tpl=()\n",
        "###############################################################\n",
        "brothers_tpl=('Hassan','Mohammad')\n",
        "sisters_tpl = ('Zeynab','Zahra')\n",
        "###############################################################\n",
        "sibilings_tpl=brothers_tpl + sisters_tpl\n",
        "###############################################################\n",
        "print(f'How many siblings do you have ? {len(sibilings_tpl)}')\n",
        "###############################################################\n",
        "sibilings_tpl = brothers_tpl + sisters_tpl + ('Ali' , 'Maryam')\n",
        "family_members =sibilings_tpl"
      ],
      "metadata": {
        "colab": {
          "base_uri": "https://localhost:8080/"
        },
        "id": "V8y5cGqfc_4F",
        "outputId": "63a4ce4e-9f4c-46a1-db87-f1e8418ca51a"
      },
      "execution_count": null,
      "outputs": [
        {
          "output_type": "stream",
          "name": "stdout",
          "text": [
            "How many siblings do you have ? 4\n"
          ]
        }
      ]
    },
    {
      "cell_type": "markdown",
      "source": [
        "##Exercise 03\n",
        "\n",
        "1.Create a student dictionary and add first_name, last_name, gender, age, skills, country, city and address as keys\n",
        "for the dictionary (100)\n",
        "\n",
        "2.Get the length of the student dictionary (50)\n",
        "\n",
        "3.Get the value of skills and check the data type, it should be a list (50)\n",
        "\n",
        "4.Modify the skills values by adding one or two skills (100)\n",
        "\n",
        "5.Get the dictionary keys as a list (100)\n",
        "\n",
        "6.Get the dictionary values as a list (100)\n",
        "\n",
        "7.Change the dictionary to a list of tuples using items() method (50)\n",
        "\n",
        "8.Delete one of the items in the dictionary(50)\n",
        "\n",
        "9.Delete one of the dictionaries(50)"
      ],
      "metadata": {
        "id": "fUwFMQTPgc01"
      }
    },
    {
      "cell_type": "code",
      "source": [
        "########################################################################################\n",
        "student = {'first_name':'Ali', 'last_name':'Abbasi', 'gender':'men', 'age':'25', 'skills':['C#','EFcore','ASP.net core mvc'],\\\n",
        "               'country':'Iran', 'city':'Arak' ,'address':'Hafez ave'}\n",
        "print(f'1.dictionary is:{student}')\n",
        "########################################################################################\n",
        "print(f'2.dictionary length ? {len(student)}')\n",
        "########################################################################################\n",
        "student_skill = student.get('skills')\n",
        "print(\"3.Student Skill  is :{0}\".format(student_skill))\n",
        "print(\"3.Student Skill type is : {0}\".format(type(student.get('skills'))))\n",
        "########################################################################################\n",
        "student_skill.append('sql')\n",
        "student_skill.append('ASP.net Web API')\n",
        "print(\"4.Student Skill  is :{0}\".format(student_skill))\n",
        "########################################################################################\n",
        "student_key_list=[]\n",
        "for key in student:\n",
        "     student_key_list .append(key)\n",
        "print(\"5.Student dictionary Skill key  is :{0}\".format(student_key_list))\n",
        "########################################################################################\n",
        "student_value_list=[]\n",
        "for value in student.values():\n",
        "     student_value_list .append(value)\n",
        "print(\"6.Student dictionary Skill value  is :{0}\".format(student_value_list))\n",
        "########################################################################################\n",
        "lst_tpl = list(student.items())\n",
        "print(f'7.Student dictionary as a list of tuples : {lst_tpl}')\n",
        "########################################################################################\n",
        "del student['skills']\n",
        "print(f'8.Student dictionary : {student}')\n",
        "########################################################################################\n",
        "student.clear()\n",
        "print(f'9.Student dictionary : {student}')"
      ],
      "metadata": {
        "colab": {
          "base_uri": "https://localhost:8080/"
        },
        "id": "tKp0eYcbgx91",
        "outputId": "22c207c2-b04d-4504-9e5e-f2104805899f"
      },
      "execution_count": null,
      "outputs": [
        {
          "output_type": "stream",
          "name": "stdout",
          "text": [
            "1.dictionary is:{'first_name': 'Ali', 'last_name': 'Abbasi', 'gender': 'men', 'age': '25', 'skills': ['C#', 'EFcore', 'ASP.net core mvc'], 'country': 'Iran', 'city': 'Arak', 'address': 'Hafez ave'}\n",
            "2.dictionary length ? 8\n",
            "3.Student Skill  is :['C#', 'EFcore', 'ASP.net core mvc']\n",
            "3.Student Skill type is : <class 'list'>\n",
            "4.Student Skill  is :['C#', 'EFcore', 'ASP.net core mvc', 'sql', 'ASP.net Web API']\n",
            "5.Student dictionary Skill key  is :['first_name', 'last_name', 'gender', 'age', 'skills', 'country', 'city', 'address']\n",
            "6.Student dictionary Skill value  is :['Ali', 'Abbasi', 'men', '25', ['C#', 'EFcore', 'ASP.net core mvc', 'sql', 'ASP.net Web API'], 'Iran', 'Arak', 'Hafez ave']\n",
            "7.Student dictionary as a list of tuples : [('first_name', 'Ali'), ('last_name', 'Abbasi'), ('gender', 'men'), ('age', '25'), ('skills', ['C#', 'EFcore', 'ASP.net core mvc', 'sql', 'ASP.net Web API']), ('country', 'Iran'), ('city', 'Arak'), ('address', 'Hafez ave')]\n",
            "8.Student dictionary : {'first_name': 'Ali', 'last_name': 'Abbasi', 'gender': 'men', 'age': '25', 'country': 'Iran', 'city': 'Arak', 'address': 'Hafez ave'}\n",
            "9.Student dictionary : {}\n"
          ]
        }
      ]
    },
    {
      "cell_type": "markdown",
      "source": [
        "##Exercise 04\n",
        "\n",
        "1.Find the length of the set it_companies (50)\n",
        "\n",
        "2.Add 'Twitter' to it_companies (50)\n",
        "\n",
        "3.Insert multiple IT companies at once to the set it_companies (100)\n",
        "\n",
        "4.Remove one of the companies from the set it_companies(50)\n",
        "\n",
        "5.What is the difference between remove and discard (100)\n",
        "\n",
        "it_companies = {'Facebook', 'Google', 'Microsoft', 'Apple', 'IBM', 'Oracle', 'Amazon'}"
      ],
      "metadata": {
        "id": "aWeElhSVqzKJ"
      }
    },
    {
      "cell_type": "code",
      "source": [
        "########################################################################################\n",
        "it_companies = {'Facebook', 'Google', 'Microsoft', 'Apple', 'IBM', 'Oracle', 'Amazon'}\n",
        "print(f'1.set length ? {len(it_companies)}')\n",
        "########################################################################################\n",
        "it_companies.add('Twitter')\n",
        "print(f'2.add to  set : {it_companies}')\n",
        "########################################################################################\n",
        "it_tech = ['SpaceX','Cisco']\n",
        "it_companies.update(it_tech)\n",
        "print(f'3.add multiple item to set : {it_companies}')\n",
        "########################################################################################\n",
        "it_companies.remove('IBM')\n",
        "print(f'4.remove one of te item of set : {it_companies}')\n",
        "########################################################################################\n",
        "print('5.discard delete with error handling , for example if we don\\'t have \"FFF\" element in tuple and we use\\\n",
        "      \\n discard to delete this elemenet we don\\'t have error . if we use remove we have error in such case .')\n",
        "it_companies.discard('FFF')\n",
        "#it_companies.remove('FFF')"
      ],
      "metadata": {
        "colab": {
          "base_uri": "https://localhost:8080/"
        },
        "id": "Afz-7zPjrCcr",
        "outputId": "a4dd2208-c534-42d4-c34f-7e153232e9db"
      },
      "execution_count": null,
      "outputs": [
        {
          "output_type": "stream",
          "name": "stdout",
          "text": [
            "1.set length ? 7\n",
            "2.add to  set : {'Oracle', 'Microsoft', 'Apple', 'Twitter', 'IBM', 'Amazon', 'Google', 'Facebook'}\n",
            "3.add multiple item to set : {'Microsoft', 'Twitter', 'IBM', 'Facebook', 'SpaceX', 'Amazon', 'Cisco', 'Google', 'Oracle', 'Apple'}\n",
            "4.remove one of te item of set : {'Microsoft', 'Twitter', 'Facebook', 'SpaceX', 'Amazon', 'Cisco', 'Google', 'Oracle', 'Apple'}\n",
            "5.discard delete with error handling , for example if we don't have \"FFF\" element in tuple and we use      \n",
            " discard to delete this elemenet we don't have error . if we use remove we have error in such case .\n"
          ]
        }
      ]
    },
    {
      "cell_type": "markdown",
      "source": [
        "##Exercise 05 (Search!)\n",
        "\n",
        "\n",
        "(I am a teacher and I love to inspire and teach people.) How many unique words have been used in the sentence?\n",
        "\n",
        "Use the split methods and set to get the unique words."
      ],
      "metadata": {
        "id": "bYzxO-86cJIe"
      }
    },
    {
      "cell_type": "code",
      "source": [
        "text = \"I am a teacher and I love to inspire and teach people.\"\n",
        "text_to_lst = text.split()\n",
        "print(f' list count is  :{len(text_to_lst)}')\n",
        "lst_to_set=set(text_to_lst)\n",
        "print(f' set count is  :{len(lst_to_set)}')\n",
        "for i in lst_to_set:\n",
        "  print(f'Uniqe element of set is :{i}')"
      ],
      "metadata": {
        "colab": {
          "base_uri": "https://localhost:8080/"
        },
        "id": "bIdw-zrRcoE_",
        "outputId": "9d1e0a46-599d-465a-b943-be8fecc66afc"
      },
      "execution_count": null,
      "outputs": [
        {
          "output_type": "stream",
          "name": "stdout",
          "text": [
            " list count is  :12\n",
            " set count is  :10\n",
            "Uniqe element of set is :people.\n",
            "Uniqe element of set is :am\n",
            "Uniqe element of set is :inspire\n",
            "Uniqe element of set is :I\n",
            "Uniqe element of set is :to\n",
            "Uniqe element of set is :teach\n",
            "Uniqe element of set is :a\n",
            "Uniqe element of set is :love\n",
            "Uniqe element of set is :and\n",
            "Uniqe element of set is :teacher\n"
          ]
        }
      ]
    },
    {
      "cell_type": "markdown",
      "source": [
        "##Exercise 06\n",
        "\n",
        "\n",
        "Write a function to Count the number of characters (characters frequency) in a string and print\n",
        "the result as a dictionary!"
      ],
      "metadata": {
        "id": "tk0sxmOHQ_qM"
      }
    },
    {
      "cell_type": "code",
      "source": [
        "def char_number_count(input_string):\n",
        "  char_dictionary = {}\n",
        "  for keys in input_string:\n",
        "   char_dictionary[keys] = char_dictionary.get(keys, 0) + 1\n",
        "  print(f'input: \"{input_string}\" , output: {str(char_dictionary)}')\n",
        "\n",
        "#call the function\n",
        "char_number_count('Filoger')\n",
        "char_number_count('Filloger')\n"
      ],
      "metadata": {
        "colab": {
          "base_uri": "https://localhost:8080/"
        },
        "id": "Umg0U0M_iMSt",
        "outputId": "fde16210-3f2e-4cac-eed7-383e98f97f83"
      },
      "execution_count": null,
      "outputs": [
        {
          "output_type": "stream",
          "name": "stdout",
          "text": [
            "input: \"Filoger\" , output: {'F': 1, 'i': 1, 'l': 1, 'o': 1, 'g': 1, 'e': 1, 'r': 1}\n",
            "input: \"Filloger\" , output: {'F': 1, 'i': 1, 'l': 2, 'o': 1, 'g': 1, 'e': 1, 'r': 1}\n"
          ]
        }
      ]
    },
    {
      "cell_type": "code",
      "source": [],
      "metadata": {
        "id": "3MTxasJ6ZvTF"
      },
      "execution_count": null,
      "outputs": []
    },
    {
      "cell_type": "markdown",
      "source": [
        "##Exercise 07\n",
        "\n",
        "\n",
        "Write a Python function to print the odd numbers from a given list."
      ],
      "metadata": {
        "id": "VAGnJwvpZ23b"
      }
    },
    {
      "cell_type": "code",
      "source": [
        "def odd_number(input_lst):\n",
        "  odd_lst=[]\n",
        "  for i in range(len(input_lst)):\n",
        "    if input_lst[i] % 2 == 1 :\n",
        "      odd_lst.append(input_lst[i])\n",
        "  print(f'List :{input_lst} , Expected Result:{odd_lst}')\n",
        "\n",
        "odd_number([1, 2, 3, 4, 5, 6, 7, 8, 9])"
      ],
      "metadata": {
        "colab": {
          "base_uri": "https://localhost:8080/"
        },
        "id": "JCjy5dYbatH1",
        "outputId": "bf72b55f-0897-41e1-ce39-baad2f4a720a"
      },
      "execution_count": null,
      "outputs": [
        {
          "output_type": "stream",
          "name": "stdout",
          "text": [
            "List :[1, 2, 3, 4, 5, 6, 7, 8, 9] , Expected Result:[1, 3, 5, 7, 9]\n"
          ]
        }
      ]
    },
    {
      "cell_type": "markdown",
      "source": [
        "##Exercise 08\n",
        "\n",
        "\n",
        "Write a Python function to sort a given list of dictionaries (employees) using Lambda. (Sort by age, then for same ages, sort by name)\n",
        "\n",
        "employees = [{\"name\": \"Sanaz\", \"age\": 14}, {\"name\": \"AmirHossein\", \"age\": 18}, {\"name\": \"Azam\", \"age\":14}, {\"name\": \"Zahra\", \"age\": 16}, {\"name\": \"Shayan\", \"age\": 18}, {\"name\": \"Zahra\", \"age\": 17}]"
      ],
      "metadata": {
        "id": "U2uhvkY2uSP3"
      }
    },
    {
      "cell_type": "code",
      "source": [
        "employees = [{\"name\": \"Sanaz\", \"age\": 14}, {\"name\": \"AmirHossein\", \"age\": 18}, {\"name\": \"Azam\", \"age\":14},\\\n",
        "             {\"name\": \"Zahra\", \"age\": 16}, {\"name\": \"Shayan\", \"age\": 18}, {\"name\": \"Zahra\", \"age\": 17}]\n",
        "def sort_emp(emp_lst):\n",
        "  #sort = lambda emp_lst , i=emp_lst.get['age'] , j=emp_lst.get['age'] :{'age': lambda emp_lst, 'age'=age: emp_lst[emp_lst] for key in a}\n",
        "  sorted_emp = sorted(emp_lst, key=lambda i: (i['age'],i['name']))\n",
        "  print(f'output : {sorted_emp}')\n",
        "\n",
        "sort_emp(employees)"
      ],
      "metadata": {
        "id": "t7aqg5qmumV7",
        "colab": {
          "base_uri": "https://localhost:8080/"
        },
        "outputId": "0e6e64d5-92a8-45eb-d124-f3520c874b4c"
      },
      "execution_count": 75,
      "outputs": [
        {
          "output_type": "stream",
          "name": "stdout",
          "text": [
            "output : [{'name': 'Azam', 'age': 14}, {'name': 'Sanaz', 'age': 14}, {'name': 'Zahra', 'age': 16}, {'name': 'Zahra', 'age': 17}, {'name': 'AmirHossein', 'age': 18}, {'name': 'Shayan', 'age': 18}]\n"
          ]
        }
      ]
    },
    {
      "cell_type": "markdown",
      "source": [
        "##Exercise 09\n",
        "\n",
        "\n",
        "Write a Python function to calculate first n numbers of Fibonacci sequence. (n is function input)"
      ],
      "metadata": {
        "id": "XMmV0b4PNj1y"
      }
    },
    {
      "cell_type": "code",
      "source": [
        "def fibonacci(n):\n",
        "  if n < 1:\n",
        "       return n\n",
        "  else:\n",
        "      return(fibonacci(n-1) + fibonacci(n-2))\n",
        "\n",
        "[fibonacci(n) for n in range(7)]"
      ],
      "metadata": {
        "colab": {
          "base_uri": "https://localhost:8080/"
        },
        "id": "R0OeUzEyNnuv",
        "outputId": "0e7e92aa-b7d3-426f-f6eb-e2e6aa07c845"
      },
      "execution_count": 123,
      "outputs": [
        {
          "output_type": "execute_result",
          "data": {
            "text/plain": [
              "[0, -1, -1, -2, -3, -5, -8]"
            ]
          },
          "metadata": {},
          "execution_count": 123
        }
      ]
    },
    {
      "cell_type": "markdown",
      "source": [
        "##Exercise 10\n",
        "\n",
        "print the type of error and handle that.\n",
        "(Use specific and General Exception)\n"
      ],
      "metadata": {
        "id": "QXrLVZHOf9Me"
      }
    },
    {
      "cell_type": "code",
      "source": [
        "dict = {'Python': 2, 'DIP': 7, 'DL': 8}\n",
        "try:\n",
        "     print (dict['CV'])\n",
        "except KeyError as error:\n",
        "      x=error\n",
        "      print(f'ErrorType is {KeyError} and for :{x}')\n",
        "except ValueError as verror:\n",
        "        x = verror\n",
        "        print(f'ErrorType is {ValueError} and for :{x}')\n",
        "except Exception as ex: #general exception handling\n",
        "        x = ex\n",
        "        print(f'ErrorType is {Exception} and for :{x}')"
      ],
      "metadata": {
        "colab": {
          "base_uri": "https://localhost:8080/"
        },
        "id": "5OQFE0PAgNe-",
        "outputId": "ae1ad74c-c8d3-4d27-da48-ce668ae76083"
      },
      "execution_count": 6,
      "outputs": [
        {
          "output_type": "stream",
          "name": "stdout",
          "text": [
            "ErrorType is <class 'KeyError'> and for :'CV'\n"
          ]
        }
      ]
    },
    {
      "cell_type": "markdown",
      "source": [
        "##Exercise 11\n",
        "\n",
        "\n",
        "print the type of error and handle that.\n",
        "(Use specific and General Exception)"
      ],
      "metadata": {
        "id": "OCDZjtJ70SPc"
      }
    },
    {
      "cell_type": "code",
      "source": [
        "code = '45145GT'\n",
        "\n",
        "try:\n",
        "     int(code)\n",
        "except KeyError as error:\n",
        "      x=error\n",
        "      print(f'ErrorType is {KeyError} and for :{x}')\n",
        "except ValueError as verror:\n",
        "        x = verror\n",
        "        print(f'ErrorType is {ValueError} and for :{x}')\n",
        "except Exception as ex:  #general exception handling\n",
        "        x = ex\n",
        "        print(f'ErrorType is {Exception} and for :{x}')"
      ],
      "metadata": {
        "colab": {
          "base_uri": "https://localhost:8080/"
        },
        "id": "tT37Q5xL0Zco",
        "outputId": "e0dd356e-8828-490b-d4df-f48193d566c9"
      },
      "execution_count": 1,
      "outputs": [
        {
          "output_type": "stream",
          "name": "stdout",
          "text": [
            "ErrorType is <class 'ValueError'> and for :invalid literal for int() with base 10: '45145GT'\n"
          ]
        }
      ]
    },
    {
      "cell_type": "markdown",
      "source": [
        "##Exercise 12\n",
        "\n",
        "\n",
        "Create a txt file (name: Ex_01_Files.txt) and save the following list in the file! (save each element\n",
        "in the new line!)\n",
        "\n",
        "Points:\n",
        "Before reading file, check the file existence!\n",
        "\n",
        "Close the file, finally!\n",
        "\n",
        "[1, 7, 'test', 'apple', 'banana', 'cherry', 785, 19, 'Python', 78.0, True, 7854.15]"
      ],
      "metadata": {
        "id": "1gvS698oJL7L"
      }
    },
    {
      "cell_type": "code",
      "source": [
        "import os\n",
        "lst = [1, 7, 'test', 'apple', 'banana', 'cherry', 785, 19, 'Python', 78.0, True, 7854.15]\n",
        "#create file\n",
        "f = open('Ex_01_Files.txt','x')\n",
        "with open('Ex_01_Files.txt', 'a') as f:\n",
        "    for item in lst:\n",
        "        f.write(f'{item}\\n')\n",
        "###############################\n",
        "##existence checking\n",
        "if os.path.exists('Ex_01_Files.txt'):\n",
        "    res =  1\n",
        "    print(f'file is exist .')\n",
        "else :\n",
        "    res = 0\n",
        "    print(f'file is not  exist .')\n",
        "##################################\n",
        "f = open('Ex_01_Files.txt', 'r')\n",
        "print(f.read())\n",
        "################\n",
        "f.close()"
      ],
      "metadata": {
        "colab": {
          "base_uri": "https://localhost:8080/"
        },
        "id": "lffMY5ATJmuM",
        "outputId": "0747a563-b5a7-4b31-bb34-e0d4532ebc85"
      },
      "execution_count": 22,
      "outputs": [
        {
          "output_type": "stream",
          "name": "stdout",
          "text": [
            "file is exist .\n",
            "1\n",
            "7\n",
            "test\n",
            "apple\n",
            "banana\n",
            "cherry\n",
            "785\n",
            "19\n",
            "Python\n",
            "78.0\n",
            "True\n",
            "7854.15\n",
            "\n"
          ]
        }
      ]
    },
    {
      "cell_type": "markdown",
      "source": [
        "##Exercise 13\n",
        "\n",
        "\n",
        "Read the Ex_01_Files.txt and save and print the numbers and strings in to separated list!\n",
        "\n",
        "Points:\n",
        "\n",
        "Before reading file, check the file existence!\n",
        "\n",
        "Close the file, finally!\n",
        "\n",
        "Handle FileNotFoundError error!"
      ],
      "metadata": {
        "id": "S6_I_5ueWaDf"
      }
    },
    {
      "cell_type": "code",
      "source": [
        "##existence checking\n",
        "try:\n",
        "  if os.path.exists('Ex_01_Files.txt'):\n",
        "    res =  1\n",
        "    print(f'file is exist .')\n",
        "  else :\n",
        "    res = 0\n",
        "    print(f'file is not  exist .')\n",
        "except FileNotFoundError as Fnerror:\n",
        "  x=error\n",
        "  print(x)\n",
        "##############################################\n",
        "# read the content in 2 list\n",
        "string_lst = []\n",
        "number_lst = []\n",
        "with open('Ex_01_Files.txt', 'r') as fp:\n",
        "    for line in fp:\n",
        "        x = line[:-1]\n",
        "        try:\n",
        "           if   float(x) :\n",
        "             number_lst.append(x)\n",
        "        except:\n",
        "              string_lst.append(x)\n",
        "print(f'string list is {string_lst}')\n",
        "print(f'number list is {number_lst}')"
      ],
      "metadata": {
        "colab": {
          "base_uri": "https://localhost:8080/"
        },
        "id": "8cqf64DzXHyq",
        "outputId": "567141e1-8fd6-45c8-8899-dabf03136743"
      },
      "execution_count": 44,
      "outputs": [
        {
          "output_type": "stream",
          "name": "stdout",
          "text": [
            "file is exist .\n",
            "string list is ['test', 'apple', 'banana', 'cherry', 'Python', 'True']\n",
            "number list is ['1', '7', '785', '19', '78.0', '7854.15']\n"
          ]
        }
      ]
    }
  ]
}
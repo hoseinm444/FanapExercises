{
  "nbformat": 4,
  "nbformat_minor": 0,
  "metadata": {
    "colab": {
      "provenance": [],
      "authorship_tag": "ABX9TyOB5FEphkSuwhwbcKSkcULT",
      "include_colab_link": true
    },
    "kernelspec": {
      "name": "python3",
      "display_name": "Python 3"
    },
    "language_info": {
      "name": "python"
    }
  },
  "cells": [
    {
      "cell_type": "markdown",
      "metadata": {
        "id": "view-in-github",
        "colab_type": "text"
      },
      "source": [
        "<a href=\"https://colab.research.google.com/github/hoseinm444/FanapExercises/blob/main/FFCVS_Dec23_Python_Ex04_Hosein_Mohammadi.ipynb\" target=\"_parent\"><img src=\"https://colab.research.google.com/assets/colab-badge.svg\" alt=\"Open In Colab\"/></a>"
      ]
    },
    {
      "cell_type": "markdown",
      "source": [
        "#Python OOP : Inheritance\n"
      ],
      "metadata": {
        "id": "L2OnIykgdiEu"
      }
    },
    {
      "cell_type": "markdown",
      "source": [
        "##Exercise 01\n",
        "\n",
        "\n",
        "Implement following architecture using OOP!\n",
        "\n",
        "use __str__ to print output same as: Desired text, using input data"
      ],
      "metadata": {
        "id": "JunDZJZOdr8B"
      }
    },
    {
      "cell_type": "code",
      "source": [
        "class Animal(object):\n",
        "    # attribute and constructor\n",
        "    def __init__(self,Name,Breed,Size,Color,Category,Age):\n",
        "        self.Animal_category = Category\n",
        "        self.Animal_name = Name\n",
        "        self.Animal_breed = Breed\n",
        "        self.Animal_size = Size\n",
        "        self.Animal_age = Age\n",
        "        self.Animal_color = Color\n",
        "    def Eat():\n",
        "       print(\"It is eating.\")\n",
        "    def Sleep():\n",
        "       print(\"It is sleeping.\")\n",
        "    def Sit():\n",
        "       print(\"It is siting.\")\n",
        "    def Run():\n",
        "       print(\"It is running.\")\n",
        "    def __str__(self):\n",
        "       return f\"Breed of the animal({self.Animal_name}) is {self.Animal_breed}, It is {self.Animal_size} and {self.Animal_color} , category of aimal is {self.Animal_category} ,\\\n",
        " the animal is {self.Animal_age} years old.\"\n",
        "\n",
        "# child class\n",
        "class Wild(Animal):\n",
        "  def __init__(self,JungleName):\n",
        "        self.wild_jungleName = JungleName\n",
        "  def Kill():\n",
        "       print(\"It is Killing.\")\n",
        "  def Hunt():\n",
        "       print(\"It is Hunting.\")\n",
        "  def __str__(self):\n",
        "       return f\"this animal lives in {self.wild_jungleName} jungle.\"\n",
        "\n",
        "\n",
        "\n",
        "class Pet(Animal):\n",
        "  def __init__(self,Name,Owner,HealthCardNum):\n",
        "        self.pet_name = Name\n",
        "        self.pet_owner = Owner\n",
        "        self.pet_healthcardnum = HealthCardNum\n",
        "  def Hug():\n",
        "    print(\"It is Huginging.\")\n",
        "  def Bring():\n",
        "     print(\"It is Bringing.\")\n",
        "  def __str__(self):\n",
        "       return f\"this animal Name is {self.pet_name} and it's owner is {self.pet_owner} , health card number is {self.pet_healthcardnum}.\"\n",
        "\n",
        "# Object instantiation\n",
        "#wild = Wild(\"Amazon\",\"Max\",\"African\",\"big\",\"Brown\",\"Wild\",3)\n",
        "lion = Wild(\"Amazon\")\n",
        "print(f'{lion}')\n",
        "\n",
        "\n",
        "Cooper = Pet(\"Cooper\",\"Adam\",\"1234567890\")\n",
        "print(f'{Cooper}')\n"
      ],
      "metadata": {
        "colab": {
          "base_uri": "https://localhost:8080/"
        },
        "id": "TjLcSYOxdqvD",
        "outputId": "866c3e07-3254-4454-b3bd-5f66fbf6acbc"
      },
      "execution_count": 39,
      "outputs": [
        {
          "output_type": "stream",
          "name": "stdout",
          "text": [
            "this animal lives in Amazon jungle.\n",
            "this animal Name is Cooper and it's owner is Adam , health card number is 1234567890.\n"
          ]
        }
      ]
    },
    {
      "cell_type": "markdown",
      "source": [
        "##useing property of parent in child classes"
      ],
      "metadata": {
        "id": "QC9bXbIljJhy"
      }
    },
    {
      "cell_type": "code",
      "source": [
        "from os import name\n",
        "class Animal(object):\n",
        "    # attribute and constructor\n",
        "    def __init__(self,Name,Breed,Size,Color,Category,Age):\n",
        "        self.Animal_category = Category\n",
        "        self.Animal_name = Name\n",
        "        self.Animal_breed = Breed\n",
        "        self.Animal_size = Size\n",
        "        self.Animal_age = Age\n",
        "        self.Animal_color = Color\n",
        "    def Eat():\n",
        "       print(\"It is eating.\")\n",
        "    def Sleep():\n",
        "       print(\"It is sleeping.\")\n",
        "    def Sit():\n",
        "       print(\"It is siting.\")\n",
        "    def Run():\n",
        "       print(\"It is running.\")\n",
        "    def __str__(self):\n",
        "       return f\"Breed of the animal({self.Animal_name}) is {self.Animal_breed}, It is {self.Animal_size} and {self.Animal_color} , category of aimal is {self.Animal_category} ,\\\n",
        " the animal is {self.Animal_age} years old.\"\n",
        "\n",
        "# child classes\n",
        "class Wild(Animal):\n",
        "  #useing property of parent in child classes\n",
        "  def __init__(self,JungleName,Name,Breed,Size,Color,Category,Age):\n",
        "        self.wild_jungleName = JungleName\n",
        "        Animal.__init__(self,Name,Breed,Size,Color,Category,Age)\n",
        "  def Kill():\n",
        "       print(\"It is Killing.\")\n",
        "  def Hunt():\n",
        "       print(\"It is Hunting.\")\n",
        "  def __str__(self):\n",
        "       return f\"this animal name is {self.Animal_name} , it's breed is {self.Animal_breed} and also it is {self.Animal_size} and {self.Animal_color} and \\\n",
        " {self.Animal_category} and {self.Animal_age} years old age and also lives in {self.wild_jungleName} jungle.\"\n",
        "\n",
        "\n",
        "\n",
        "class Pet(Animal):\n",
        "  def __init__(self,Name,Owner,HealthCardNum,Breed,Size,Color,Category,Age):\n",
        "        self.pet_name = Name\n",
        "        self.pet_owner = Owner\n",
        "        self.pet_healthcardnum = HealthCardNum\n",
        "        Animal.__init__(self,Name,Breed,Size,Color,Category,Age)\n",
        "  def Hug():\n",
        "    print(\"It is Huginging.\")\n",
        "  def Bring():\n",
        "     print(\"It is Bringing.\")\n",
        "  def __str__(self):\n",
        "       return f\"this animal Name is {self.pet_name} and it's breed is {self.Animal_breed} and also it is {self.Animal_size} and {self.Animal_color} and \\\n",
        " {self.Animal_category} and {self.Animal_age} years old age , it's owner is {self.pet_owner} , health card number is {self.pet_healthcardnum}.\"\n",
        "\n",
        "# Object instantiation\n",
        "wild = Wild(\"Amazon\",\"Max\",\"African\",\"big\",\"Brown\",\"Wild\",3)\n",
        "#lion = Wild(\"Amazon\")\n",
        "print(f'{wild}')\n",
        "\n",
        "\n",
        "Cooper = Pet(\"Cooper\",\"Adam\",\"1234567890\",\"German\",\"medium\",\"Black\",\"Pet\",2)\n",
        "print(f'{Cooper}')"
      ],
      "metadata": {
        "colab": {
          "base_uri": "https://localhost:8080/"
        },
        "id": "A_9aUEZjinNL",
        "outputId": "0e465257-e29b-41d0-8723-a2390a017ddf"
      },
      "execution_count": 37,
      "outputs": [
        {
          "output_type": "stream",
          "name": "stdout",
          "text": [
            "this animal name is Max , it's breed is African and also it is big and Brown and  Wild and 3 years old age and also lives in Amazon jungle.\n",
            "this animal Name is Cooper and it's breed is German and also it is medium and Black and  Pet and 2 years old age , it's owner is Adam , health card number is 1234567890.\n"
          ]
        }
      ]
    }
  ]
}
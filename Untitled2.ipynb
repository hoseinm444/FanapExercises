{
  "nbformat": 4,
  "nbformat_minor": 0,
  "metadata": {
    "colab": {
      "provenance": [],
      "authorship_tag": "ABX9TyMJ30G413dBrVJrHzArHa3r",
      "include_colab_link": true
    },
    "kernelspec": {
      "name": "python3",
      "display_name": "Python 3"
    },
    "language_info": {
      "name": "python"
    }
  },
  "cells": [
    {
      "cell_type": "markdown",
      "metadata": {
        "id": "view-in-github",
        "colab_type": "text"
      },
      "source": [
        "<a href=\"https://colab.research.google.com/github/hoseinm444/FanapExercises/blob/main/Untitled2.ipynb\" target=\"_parent\"><img src=\"https://colab.research.google.com/assets/colab-badge.svg\" alt=\"Open In Colab\"/></a>"
      ]
    },
    {
      "cell_type": "code",
      "execution_count": 5,
      "metadata": {
        "colab": {
          "base_uri": "https://localhost:8080/"
        },
        "id": "BdBZfeCFs9Vw",
        "outputId": "b97ab4ec-c5f2-4a7b-b30b-ccf4f4ddde7f"
      },
      "outputs": [
        {
          "output_type": "stream",
          "name": "stdout",
          "text": [
            "Left 7 6\n"
          ]
        }
      ],
      "source": [
        "def chair(r,c):\n",
        "   string = \"\"\n",
        "   if c>=1 and c<=10:\n",
        "      string =\"Right\"\n",
        "      a = 11-r\n",
        "      b = c\n",
        "   else :\n",
        "      string = \"Left\"\n",
        "      a = 11-r\n",
        "      b = 21 - c\n",
        "   print(f\"{string} {a} {b}\")\n",
        "\n",
        "chair(4,15)\n"
      ]
    }
  ]
}
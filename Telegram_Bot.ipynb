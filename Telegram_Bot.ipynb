{
  "cells": [
    {
      "cell_type": "markdown",
      "metadata": {
        "id": "view-in-github",
        "colab_type": "text"
      },
      "source": [
        "<a href=\"https://colab.research.google.com/github/hoseinm444/FanapExercises/blob/main/Telegram_Bot.ipynb\" target=\"_parent\"><img src=\"https://colab.research.google.com/assets/colab-badge.svg\" alt=\"Open In Colab\"/></a>"
      ]
    },
    {
      "cell_type": "markdown",
      "metadata": {
        "id": "Z7w8BGHGi8ra"
      },
      "source": [
        "#bot"
      ]
    },
    {
      "cell_type": "code",
      "execution_count": 5,
      "metadata": {
        "colab": {
          "base_uri": "https://localhost:8080/",
          "height": 462
        },
        "id": "uDJuM61uz3uv",
        "outputId": "6c835086-b42e-478e-aabf-4a114386535c"
      },
      "outputs": [
        {
          "output_type": "stream",
          "name": "stdout",
          "text": [
            "start polling....\n",
            "search for : yank\n",
            "Movie Itmes : Movies(results=[PartialMovie(id=38492, poster_path='/yTp3ansrRrQ2Gs76wnRREzBZRfI.jpg', adult=False, overview='Billy Joel plays his greatest hits in the Big Apple.', release_date=datetime.date(2022, 6, 22), genre_ids=[10402], original_title='Billy Joel Live at Yankee Stadium', original_language='en', title='Billy Joel - Live at Yankee Stadium', backdrop_path='/ljlFNfTu6h9G67YWHDbgeZI3tW7.jpg', popularity=2.387, vote_count=6, video=False, vote_average=7.583, media_type=<MediaType.movie: 'movie'>), PartialMovie(id=928344, poster_path='/qcj2z13G0KjaIgc01ifiUKu7W07.jpg', adult=False, overview='Exploring every facet of ‘Weird Al’ Yankovic’s life, from his meteoric rise to fame with early hits like ‘Eat It’ and ‘Like a Surgeon’ to his torrid celebrity love affairs and famously depraved lifestyle, this biopic takes audiences on a truly unbelievable journey through Yankovic’s life and career, from gifted child prodigy to the greatest musical legend of all time.', release_date=datetime.date(2022, 9, 8), genre_ids=[10402, 35, 80], original_title='Weird: The Al Yankovic Story', original_language='en', title='Weird: The Al Yankovic Story', backdrop_path='/8hSx5b4YfD2dzvGtrE6mdXF0xrZ.jpg', popularity=21.525, vote_count=354, video=False, vote_average=6.729, media_type=<MediaType.movie: 'movie'>), PartialMovie(id=21666, poster_path='/zsTyD3U9iiFDYGWW3Xix4Q2Opuf.jpg', adult=False, overview=\"During WWII, the United States set up army bases in Great Britain as part of the war effort. Against their proper sensibilities, many of the Brits don't much like the brash Yanks, especially when it comes to the G.I.s making advances on the lonely British girls. One relationship that develops is between married John, an Army Captain, and the aristocratic Helen, whose naval husband is away at war. Helen loves her husband, but Helen and John are looking for some comfort during the difficult times.\", release_date=datetime.date(1979, 9, 1), genre_ids=[10749, 18, 10752], original_title='Yanks', original_language='en', title='Yanks', backdrop_path='/joqEPQ9O4bCxDVEse55rtmS9ENf.jpg', popularity=8.252, vote_count=49, video=False, vote_average=5.984, media_type=<MediaType.movie: 'movie'>), PartialMovie(id=264926, poster_path=None, adult=False, overview='\"All people with a tiny bit of sense get depressed in this country\", says Patricia in \"The Last Yankee\". Two men - a carpenter and a successful self-employed business owner - visit their wives, who both are patients in a mental hospital. Why has life become so unbearable for them?', release_date=datetime.date(1997, 1, 2), genre_ids=[18, 10770], original_title='Den sista yankeen', original_language='sv', title='The Last Yankee', backdrop_path=None, popularity=1.359, vote_count=1, video=False, vote_average=1.0, media_type=<MediaType.movie: 'movie'>), PartialMovie(id=442124, poster_path='/e1fvHziKYniizkMVRnnMOcJpyEP.jpg', adult=False, overview='Yana Titova is a very successful businesswoman, editor-in-chief of a fashion glossy magazine. She considers herself a self-sufficient, accomplished woman and supports \"child-free\". It doesn\\'t bother Yana at all that at thirty-eight she doesn\\'t have a husband or children. Having achieved popularity, Yana confidently goes forward, not wanting to compromise her own principles.\\r But suddenly, clouds are gathering over Yana\\'s well-being, and in order to strengthen her almost lost position, she agrees to an unthinkable step, deciding to adopt a child. Yana takes her from the orphanage a little gypsy by the name of Yanko. That\\'s just Yana does not even suspect what will turn out for her such a PR move.', release_date=datetime.date(2017, 4, 13), genre_ids=[10751, 35], original_title='Яна+Янко', original_language='ru', title='Yana+Yanko', backdrop_path='/7QGXCb6B5zIr1sBX4KnGVrgluIM.jpg', popularity=3.426, vote_count=4, video=False, vote_average=4.1, media_type=<MediaType.movie: 'movie'>), PartialMovie(id=3087, poster_path='/cqLLIyJFjLr6jGOxWVEHG11WGzB.jpg', adult=False, overview='A film of the life of the renowned musical composer, playwright, actor, dancer and singer George M. Cohan.', release_date=datetime.date(1942, 5, 29), genre_ids=[18, 10402], original_title='Yankee Doodle Dandy', original_language='en', title='Yankee Doodle Dandy', backdrop_path='/mVhtWsCu6z58fmpIP7SHcwdCGDz.jpg', popularity=10.064, vote_count=193, video=False, vote_average=7.041, media_type=<MediaType.movie: 'movie'>), PartialMovie(id=922001, poster_path=None, adult=False, overview='This is the incredible story of a group of Kletzmer musicians during a break in their concert. In a few minutes out of the stage fights, unexpected events happen that stem from the telling a brief little story.', release_date=datetime.date(1994, 1, 1), genre_ids=[], original_title='Dov’è Yankel?', original_language='en', title=\"Where's yankel?\", backdrop_path=None, popularity=0.84, vote_count=0, video=False, vote_average=0.0, media_type=<MediaType.movie: 'movie'>), PartialMovie(id=19140, poster_path='/tbSMm0IAa5WgTcyoeUn7AKAViVY.jpg', adult=False, overview='The story of the life and career of the baseball hall of famer, Lou Gehrig.', release_date=datetime.date(1942, 7, 14), genre_ids=[18, 10751], original_title='The Pride of the Yankees', original_language='en', title='The Pride of the Yankees', backdrop_path='/bd57iZNhXjX4Olm22XqXHondbBL.jpg', popularity=13.044, vote_count=108, video=False, vote_average=7.31, media_type=<MediaType.movie: 'movie'>), PartialMovie(id=16417, poster_path='/gOPkzkmi5XkGDUkurhpBK9gNHpI.jpg', adult=False, overview=\"Two South African boys, one white, Rhino, and one black, Zulu, go their separate ways after an incident. Many years later, they meet up again as adults, when one, after living for years in the United States, is now a wanted criminal. The two end up being a part of a madcap chase involving a check for a large amount of lottery money, pursued by Gen. Diehard and Rhino's ex-wife Rowena, who was the cause of the rift between the two protagonists.\", release_date=datetime.date(1993, 12, 1), genre_ids=[35], original_title='Yankee Zulu', original_language='en', title='Yankee Zulu', backdrop_path='/mY9bISF8RWaHNsnlC6ULLY5h1fw.jpg', popularity=7.01, vote_count=32, video=False, vote_average=6.016, media_type=<MediaType.movie: 'movie'>), PartialMovie(id=526692, poster_path='/hz2QR5UPthqPMpw27J1cdzKaKLs.jpg', adult=False, overview='Based on the comic book series of the same name by Masahide Motohashi.', release_date=datetime.date(1995, 9, 23), genre_ids=[28], original_title='ヤンキー烈風隊', original_language='ja', title='Yankee Reppuutai', backdrop_path=None, popularity=1.153, vote_count=0, video=False, vote_average=0.0, media_type=<MediaType.movie: 'movie'>), PartialMovie(id=106250, poster_path='/rvT3r6IAqeRvHlU2uvgLQrvRkDW.jpg', adult=False, overview='The plane of the American pilot Hank Morgan got lost in time. The pilot falls into temporary loop and finds himself at the era of the glorious King Arthur. Here he is destined to meet the legendary knights of the Round Table and the insidious Queen Morgana - the sister of the king, the beautiful Sandy and the wise Wizard. He will find himself in the rags of a slave and in knightly armor, to witness the greatness and death of the kingdom.', release_date=datetime.date(1988, 6, 6), genre_ids=[12, 14], original_title='Новые приключения янки при дворе короля Артура', original_language='ru', title=\"New Adventures of a Yankee in King Arthur's Court\", backdrop_path='/4OZfstfTkBf2O44eF0vQWXQfDJo.jpg', popularity=2.447, vote_count=11, video=False, vote_average=4.364, media_type=<MediaType.movie: 'movie'>), PartialMovie(id=881284, poster_path='/zKMnzfdoREu0dggc77vWym7sO1z.jpg', adult=False, overview='', release_date=datetime.date(1994, 1, 14), genre_ids=[], original_title='ヤンキー愚連隊 なんぼのもんじゃい!2', original_language='ja', title='Yankee Gurentai Nanbo no Monjai! 2', backdrop_path=None, popularity=0.6, vote_count=0, video=False, vote_average=0.0, media_type=<MediaType.movie: 'movie'>), PartialMovie(id=1109844, poster_path='/y26l8XMuTsqR32YL5f0B4erNTBH.jpg', adult=False, overview=\"Yankee Training School Begins! If you want to study, you're out of menchi! The second chapter of the super-carnivorous school drama set in an unprecedented Yankee academy where the former Yang director reigns.\", release_date=datetime.date(2012, 9, 5), genre_ids=[], original_title='ハレンチヤンキー学園 2', original_language='ja', title='Shameless Yankee Academy 2', backdrop_path=None, popularity=2.283, vote_count=0, video=False, vote_average=0.0, media_type=<MediaType.movie: 'movie'>), PartialMovie(id=36848, poster_path='/2LYlMNGXmes2tMlMn6KgSNwUpCo.jpg', adult=False, overview=\"A bump on the head sends Hank Martin, 1912 mechanic, to Arthurian Britain, 528 A.D., where he is befriended by Sir Sagramore le Desirous and gains power by judicious use of technology. He and Alisande, the King's niece, fall in love at first sight, which draws unwelcome attention from her fiancée Sir Lancelot; but worse trouble befalls when Hank meddles in the kingdom's politics.\", release_date=datetime.date(1949, 4, 18), genre_ids=[35, 14, 10402], original_title=\"A Connecticut Yankee in King Arthur's Court\", original_language='en', title=\"A Connecticut Yankee in King Arthur's Court\", backdrop_path='/5I6c9btGfuWZ2n14gecbCBHqpUV.jpg', popularity=10.161, vote_count=27, video=False, vote_average=6.444, media_type=<MediaType.movie: 'movie'>), PartialMovie(id=101135, poster_path='/a1PIfMFxL756CCj3Q6Mbvd5WAvs.jpg', adult=False, overview='After a horse accident, Karen wakes up to find herself in past Britain, close to Camelot, the famous castle of King Arthur.', release_date=datetime.date(1989, 12, 18), genre_ids=[12, 35, 10751], original_title=\"A Connecticut Yankee in King Arthur's Court\", original_language='en', title=\"A Connecticut Yankee in King Arthur's Court\", backdrop_path='/24fmmc08ycadTXIeZppY142Fuhx.jpg', popularity=5.676, vote_count=8, video=False, vote_average=5.875, media_type=<MediaType.movie: 'movie'>), PartialMovie(id=811205, poster_path='/zCscxGJFJrO1RmQyqJPxvNv0vDP.jpg', adult=False, overview='The story of an yankee leader, finding her love.', release_date=datetime.date(2011, 4, 6), genre_ids=[35], original_title='– ヤンキーお嬢様', original_language='ja', title='Yankee Lady', backdrop_path='/jU2fpOWGpnDVDOVkt1hu89VbQJS.jpg', popularity=3.182, vote_count=0, video=False, vote_average=1.0, media_type=<MediaType.movie: 'movie'>), PartialMovie(id=41253, poster_path='/os93e6QeQx5T0nbdOUgPXsB8Daq.jpg', adult=False, overview='Film adaptation of the George Abbott Broadway musical about a Washington Senators fan who makes a pact with the Devil to help his baseball team win the league pennant.', release_date=datetime.date(1958, 9, 26), genre_ids=[10402, 35], original_title='Damn Yankees', original_language='en', title='Damn Yankees', backdrop_path='/jfGgCSFMUlf8DklzUkpz1GfieHA.jpg', popularity=6.476, vote_count=34, video=False, vote_average=6.5, media_type=<MediaType.movie: 'movie'>), PartialMovie(id=881259, poster_path='/lQqdsYuQaZYp4CYqYXcjZw2FpQ2.jpg', adult=False, overview='', release_date=datetime.date(1991, 8, 5), genre_ids=[], original_title='ヤンキー愚連隊 なんぼのもんじゃい!', original_language='ja', title='Yankee Gurentai Nanbo no Monjai!', backdrop_path=None, popularity=1.414, vote_count=0, video=False, vote_average=0.0, media_type=<MediaType.movie: 'movie'>), PartialMovie(id=49609, poster_path='/2rnMINMnWv5iBM6YaqO6tiFaws7.jpg', adult=False, overview=\"An American pilot impulsively joins His Majesty's Royal Air Force in Britain in an attempt to impress his ex-girlfriend.\", release_date=datetime.date(1941, 9, 26), genre_ids=[10752, 28, 10749], original_title='A Yank in the R.A.F.', original_language='en', title='A Yank in the R.A.F.', backdrop_path='/5doH8NYYtXkbce6s7N6pVlJUTAF.jpg', popularity=6.366, vote_count=19, video=False, vote_average=5.684, media_type=<MediaType.movie: 'movie'>), PartialMovie(id=607764, poster_path='/3I1eXctcphekHqR6TapCtK54o3L.jpg', adult=False, overview='', release_date=datetime.date(2015, 2, 19), genre_ids=[99], original_title='Янковский', original_language='ru', title='Yankovsky', backdrop_path=None, popularity=0.628, vote_count=1, video=False, vote_average=10.0, media_type=<MediaType.movie: 'movie'>)], id=None, page=1, dates=None, total_pages=9, total_results=179) \n",
            "Title : Billy Joel - Live at Yankee Stadium , Year :2022\n"
          ]
        },
        {
          "output_type": "error",
          "ename": "AttributeError",
          "evalue": "'int' object has no attribute 'message_id'",
          "traceback": [
            "\u001b[0;31m---------------------------------------------------------------------------\u001b[0m",
            "\u001b[0;31mAttributeError\u001b[0m                            Traceback (most recent call last)",
            "\u001b[0;32m<ipython-input-5-571153e82387>\u001b[0m in \u001b[0;36m<cell line: 85>\u001b[0;34m()\u001b[0m\n\u001b[1;32m     83\u001b[0m '''\n\u001b[1;32m     84\u001b[0m \u001b[0mprint\u001b[0m\u001b[0;34m(\u001b[0m\u001b[0;34m'start polling....'\u001b[0m\u001b[0;34m)\u001b[0m\u001b[0;34m\u001b[0m\u001b[0;34m\u001b[0m\u001b[0m\n\u001b[0;32m---> 85\u001b[0;31m \u001b[0mbot\u001b[0m\u001b[0;34m.\u001b[0m\u001b[0mpolling\u001b[0m\u001b[0;34m(\u001b[0m\u001b[0;34m)\u001b[0m\u001b[0;34m\u001b[0m\u001b[0;34m\u001b[0m\u001b[0m\n\u001b[0m\u001b[1;32m     86\u001b[0m \u001b[0;34m\u001b[0m\u001b[0m\n\u001b[1;32m     87\u001b[0m \u001b[0;34m\u001b[0m\u001b[0m\n",
            "\u001b[0;32m/usr/local/lib/python3.10/dist-packages/telebot/__init__.py\u001b[0m in \u001b[0;36mpolling\u001b[0;34m(self, non_stop, skip_pending, interval, timeout, long_polling_timeout, logger_level, allowed_updates, none_stop, restart_on_change, path_to_watch)\u001b[0m\n\u001b[1;32m   1102\u001b[0m \u001b[0;34m\u001b[0m\u001b[0m\n\u001b[1;32m   1103\u001b[0m         \u001b[0;32mif\u001b[0m \u001b[0mself\u001b[0m\u001b[0;34m.\u001b[0m\u001b[0mthreaded\u001b[0m\u001b[0;34m:\u001b[0m\u001b[0;34m\u001b[0m\u001b[0;34m\u001b[0m\u001b[0m\n\u001b[0;32m-> 1104\u001b[0;31m             self.__threaded_polling(non_stop=non_stop, interval=interval, timeout=timeout, long_polling_timeout=long_polling_timeout,\n\u001b[0m\u001b[1;32m   1105\u001b[0m                                     logger_level=logger_level, allowed_updates=allowed_updates)\n\u001b[1;32m   1106\u001b[0m         \u001b[0;32melse\u001b[0m\u001b[0;34m:\u001b[0m\u001b[0;34m\u001b[0m\u001b[0;34m\u001b[0m\u001b[0m\n",
            "\u001b[0;32m/usr/local/lib/python3.10/dist-packages/telebot/__init__.py\u001b[0m in \u001b[0;36m__threaded_polling\u001b[0;34m(self, non_stop, interval, timeout, long_polling_timeout, logger_level, allowed_updates)\u001b[0m\n\u001b[1;32m   1177\u001b[0m                     \u001b[0mpolling_thread\u001b[0m\u001b[0;34m.\u001b[0m\u001b[0mclear_exceptions\u001b[0m\u001b[0;34m(\u001b[0m\u001b[0;34m)\u001b[0m   \u001b[0;31m#*\u001b[0m\u001b[0;34m\u001b[0m\u001b[0;34m\u001b[0m\u001b[0m\n\u001b[1;32m   1178\u001b[0m                     \u001b[0mself\u001b[0m\u001b[0;34m.\u001b[0m\u001b[0mworker_pool\u001b[0m\u001b[0;34m.\u001b[0m\u001b[0mclear_exceptions\u001b[0m\u001b[0;34m(\u001b[0m\u001b[0;34m)\u001b[0m \u001b[0;31m#*\u001b[0m\u001b[0;34m\u001b[0m\u001b[0;34m\u001b[0m\u001b[0m\n\u001b[0;32m-> 1179\u001b[0;31m                     \u001b[0;32mraise\u001b[0m \u001b[0me\u001b[0m\u001b[0;34m\u001b[0m\u001b[0;34m\u001b[0m\u001b[0m\n\u001b[0m\u001b[1;32m   1180\u001b[0m                 \u001b[0;32melse\u001b[0m\u001b[0;34m:\u001b[0m\u001b[0;34m\u001b[0m\u001b[0;34m\u001b[0m\u001b[0m\n\u001b[1;32m   1181\u001b[0m                     \u001b[0mpolling_thread\u001b[0m\u001b[0;34m.\u001b[0m\u001b[0mclear_exceptions\u001b[0m\u001b[0;34m(\u001b[0m\u001b[0;34m)\u001b[0m\u001b[0;34m\u001b[0m\u001b[0;34m\u001b[0m\u001b[0m\n",
            "\u001b[0;32m/usr/local/lib/python3.10/dist-packages/telebot/__init__.py\u001b[0m in \u001b[0;36m__threaded_polling\u001b[0;34m(self, non_stop, interval, timeout, long_polling_timeout, logger_level, allowed_updates)\u001b[0m\n\u001b[1;32m   1139\u001b[0m                 \u001b[0mor_event\u001b[0m\u001b[0;34m.\u001b[0m\u001b[0mwait\u001b[0m\u001b[0;34m(\u001b[0m\u001b[0;34m)\u001b[0m  \u001b[0;31m# wait for polling thread finish, polling thread error or thread pool error\u001b[0m\u001b[0;34m\u001b[0m\u001b[0;34m\u001b[0m\u001b[0m\n\u001b[1;32m   1140\u001b[0m                 \u001b[0mpolling_thread\u001b[0m\u001b[0;34m.\u001b[0m\u001b[0mraise_exceptions\u001b[0m\u001b[0;34m(\u001b[0m\u001b[0;34m)\u001b[0m\u001b[0;34m\u001b[0m\u001b[0;34m\u001b[0m\u001b[0m\n\u001b[0;32m-> 1141\u001b[0;31m                 \u001b[0mself\u001b[0m\u001b[0;34m.\u001b[0m\u001b[0mworker_pool\u001b[0m\u001b[0;34m.\u001b[0m\u001b[0mraise_exceptions\u001b[0m\u001b[0;34m(\u001b[0m\u001b[0;34m)\u001b[0m\u001b[0;34m\u001b[0m\u001b[0;34m\u001b[0m\u001b[0m\n\u001b[0m\u001b[1;32m   1142\u001b[0m                 \u001b[0merror_interval\u001b[0m \u001b[0;34m=\u001b[0m \u001b[0;36m0.25\u001b[0m\u001b[0;34m\u001b[0m\u001b[0;34m\u001b[0m\u001b[0m\n\u001b[1;32m   1143\u001b[0m             \u001b[0;32mexcept\u001b[0m \u001b[0mapihelper\u001b[0m\u001b[0;34m.\u001b[0m\u001b[0mApiException\u001b[0m \u001b[0;32mas\u001b[0m \u001b[0me\u001b[0m\u001b[0;34m:\u001b[0m\u001b[0;34m\u001b[0m\u001b[0;34m\u001b[0m\u001b[0m\n",
            "\u001b[0;32m/usr/local/lib/python3.10/dist-packages/telebot/util.py\u001b[0m in \u001b[0;36mraise_exceptions\u001b[0;34m(self)\u001b[0m\n\u001b[1;32m    147\u001b[0m     \u001b[0;32mdef\u001b[0m \u001b[0mraise_exceptions\u001b[0m\u001b[0;34m(\u001b[0m\u001b[0mself\u001b[0m\u001b[0;34m)\u001b[0m\u001b[0;34m:\u001b[0m\u001b[0;34m\u001b[0m\u001b[0;34m\u001b[0m\u001b[0m\n\u001b[1;32m    148\u001b[0m         \u001b[0;32mif\u001b[0m \u001b[0mself\u001b[0m\u001b[0;34m.\u001b[0m\u001b[0mexception_event\u001b[0m\u001b[0;34m.\u001b[0m\u001b[0mis_set\u001b[0m\u001b[0;34m(\u001b[0m\u001b[0;34m)\u001b[0m\u001b[0;34m:\u001b[0m\u001b[0;34m\u001b[0m\u001b[0;34m\u001b[0m\u001b[0m\n\u001b[0;32m--> 149\u001b[0;31m             \u001b[0;32mraise\u001b[0m \u001b[0mself\u001b[0m\u001b[0;34m.\u001b[0m\u001b[0mexception_info\u001b[0m\u001b[0;34m\u001b[0m\u001b[0;34m\u001b[0m\u001b[0m\n\u001b[0m\u001b[1;32m    150\u001b[0m \u001b[0;34m\u001b[0m\u001b[0m\n\u001b[1;32m    151\u001b[0m     \u001b[0;32mdef\u001b[0m \u001b[0mclear_exceptions\u001b[0m\u001b[0;34m(\u001b[0m\u001b[0mself\u001b[0m\u001b[0;34m)\u001b[0m\u001b[0;34m:\u001b[0m\u001b[0;34m\u001b[0m\u001b[0;34m\u001b[0m\u001b[0m\n",
            "\u001b[0;32m/usr/local/lib/python3.10/dist-packages/telebot/util.py\u001b[0m in \u001b[0;36mrun\u001b[0;34m(self)\u001b[0m\n\u001b[1;32m     90\u001b[0m                 \u001b[0mself\u001b[0m\u001b[0;34m.\u001b[0m\u001b[0mreceived_task_event\u001b[0m\u001b[0;34m.\u001b[0m\u001b[0mset\u001b[0m\u001b[0;34m(\u001b[0m\u001b[0;34m)\u001b[0m\u001b[0;34m\u001b[0m\u001b[0;34m\u001b[0m\u001b[0m\n\u001b[1;32m     91\u001b[0m \u001b[0;34m\u001b[0m\u001b[0m\n\u001b[0;32m---> 92\u001b[0;31m                 \u001b[0mtask\u001b[0m\u001b[0;34m(\u001b[0m\u001b[0;34m*\u001b[0m\u001b[0margs\u001b[0m\u001b[0;34m,\u001b[0m \u001b[0;34m**\u001b[0m\u001b[0mkwargs\u001b[0m\u001b[0;34m)\u001b[0m\u001b[0;34m\u001b[0m\u001b[0;34m\u001b[0m\u001b[0m\n\u001b[0m\u001b[1;32m     93\u001b[0m                 \u001b[0mlogger\u001b[0m\u001b[0;34m.\u001b[0m\u001b[0mdebug\u001b[0m\u001b[0;34m(\u001b[0m\u001b[0;34m\"Task complete\"\u001b[0m\u001b[0;34m)\u001b[0m\u001b[0;34m\u001b[0m\u001b[0;34m\u001b[0m\u001b[0m\n\u001b[1;32m     94\u001b[0m                 \u001b[0mself\u001b[0m\u001b[0;34m.\u001b[0m\u001b[0mdone_event\u001b[0m\u001b[0;34m.\u001b[0m\u001b[0mset\u001b[0m\u001b[0;34m(\u001b[0m\u001b[0;34m)\u001b[0m\u001b[0;34m\u001b[0m\u001b[0;34m\u001b[0m\u001b[0m\n",
            "\u001b[0;32m/usr/local/lib/python3.10/dist-packages/telebot/__init__.py\u001b[0m in \u001b[0;36m_run_middlewares_and_handler\u001b[0;34m(self, message, handlers, middlewares, update_type)\u001b[0m\n\u001b[1;32m   7866\u001b[0m                             \u001b[0mresult\u001b[0m \u001b[0;34m=\u001b[0m \u001b[0mhandler\u001b[0m\u001b[0;34m[\u001b[0m\u001b[0;34m'function'\u001b[0m\u001b[0;34m]\u001b[0m\u001b[0;34m(\u001b[0m\u001b[0mmessage\u001b[0m\u001b[0;34m,\u001b[0m \u001b[0mbot\u001b[0m\u001b[0;34m=\u001b[0m\u001b[0mself\u001b[0m\u001b[0;34m)\u001b[0m\u001b[0;34m\u001b[0m\u001b[0;34m\u001b[0m\u001b[0m\n\u001b[1;32m   7867\u001b[0m                         \u001b[0;32melse\u001b[0m\u001b[0;34m:\u001b[0m\u001b[0;34m\u001b[0m\u001b[0;34m\u001b[0m\u001b[0m\n\u001b[0;32m-> 7868\u001b[0;31m                             \u001b[0mresult\u001b[0m \u001b[0;34m=\u001b[0m \u001b[0mhandler\u001b[0m\u001b[0;34m[\u001b[0m\u001b[0;34m'function'\u001b[0m\u001b[0;34m]\u001b[0m\u001b[0;34m(\u001b[0m\u001b[0mmessage\u001b[0m\u001b[0;34m)\u001b[0m\u001b[0;34m\u001b[0m\u001b[0;34m\u001b[0m\u001b[0m\n\u001b[0m\u001b[1;32m   7869\u001b[0m                         \u001b[0;32mif\u001b[0m \u001b[0;32mnot\u001b[0m \u001b[0misinstance\u001b[0m\u001b[0;34m(\u001b[0m\u001b[0mresult\u001b[0m\u001b[0;34m,\u001b[0m \u001b[0mContinueHandling\u001b[0m\u001b[0;34m)\u001b[0m\u001b[0;34m:\u001b[0m\u001b[0;34m\u001b[0m\u001b[0;34m\u001b[0m\u001b[0m\n\u001b[1;32m   7870\u001b[0m                             \u001b[0;32mbreak\u001b[0m\u001b[0;34m\u001b[0m\u001b[0;34m\u001b[0m\u001b[0m\n",
            "\u001b[0;32m<ipython-input-5-571153e82387>\u001b[0m in \u001b[0;36msearch_for_movies\u001b[0;34m(message)\u001b[0m\n\u001b[1;32m     49\u001b[0m       \u001b[0mmarkup\u001b[0m \u001b[0;34m=\u001b[0m \u001b[0mtelebot\u001b[0m\u001b[0;34m.\u001b[0m\u001b[0mtypes\u001b[0m\u001b[0;34m.\u001b[0m\u001b[0mInlineKeyboardMarkup\u001b[0m\u001b[0;34m(\u001b[0m\u001b[0mrow_width\u001b[0m\u001b[0;34m=\u001b[0m\u001b[0;36m1\u001b[0m\u001b[0;34m)\u001b[0m\u001b[0;34m\u001b[0m\u001b[0;34m\u001b[0m\u001b[0m\n\u001b[1;32m     50\u001b[0m       \u001b[0mmarkup\u001b[0m\u001b[0;34m.\u001b[0m\u001b[0madd\u001b[0m\u001b[0;34m(\u001b[0m\u001b[0mbuttons\u001b[0m\u001b[0;34m)\u001b[0m\u001b[0;34m\u001b[0m\u001b[0;34m\u001b[0m\u001b[0m\n\u001b[0;32m---> 51\u001b[0;31m       \u001b[0mbot\u001b[0m\u001b[0;34m.\u001b[0m\u001b[0mreply_to\u001b[0m\u001b[0;34m(\u001b[0m\u001b[0mmessage\u001b[0m\u001b[0;34m.\u001b[0m\u001b[0mchat\u001b[0m\u001b[0;34m.\u001b[0m\u001b[0mid\u001b[0m \u001b[0;34m,\u001b[0m\u001b[0;34mf'{movie.title} : {movie.year}'\u001b[0m\u001b[0;34m,\u001b[0m\u001b[0mreply_markup\u001b[0m\u001b[0;34m=\u001b[0m\u001b[0mmarkup\u001b[0m\u001b[0;34m)\u001b[0m\u001b[0;34m\u001b[0m\u001b[0;34m\u001b[0m\u001b[0m\n\u001b[0m\u001b[1;32m     52\u001b[0m       \u001b[0;31m#except not FileNotFoundError as not_found_error  :\u001b[0m\u001b[0;34m\u001b[0m\u001b[0;34m\u001b[0m\u001b[0m\n\u001b[1;32m     53\u001b[0m               \u001b[0;31m# x = not_found_error\u001b[0m\u001b[0;34m\u001b[0m\u001b[0;34m\u001b[0m\u001b[0m\n",
            "\u001b[0;32m/usr/local/lib/python3.10/dist-packages/telebot/__init__.py\u001b[0m in \u001b[0;36mreply_to\u001b[0;34m(self, message, text, **kwargs)\u001b[0m\n\u001b[1;32m   5260\u001b[0m         \u001b[0;32mif\u001b[0m \u001b[0;32mnot\u001b[0m \u001b[0mreply_parameters\u001b[0m\u001b[0;34m:\u001b[0m\u001b[0;34m\u001b[0m\u001b[0;34m\u001b[0m\u001b[0m\n\u001b[1;32m   5261\u001b[0m             reply_parameters = types.ReplyParameters(\n\u001b[0;32m-> 5262\u001b[0;31m                 \u001b[0mmessage\u001b[0m\u001b[0;34m.\u001b[0m\u001b[0mmessage_id\u001b[0m\u001b[0;34m,\u001b[0m\u001b[0;34m\u001b[0m\u001b[0;34m\u001b[0m\u001b[0m\n\u001b[0m\u001b[1;32m   5263\u001b[0m                 \u001b[0mallow_sending_without_reply\u001b[0m\u001b[0;34m=\u001b[0m\u001b[0mkwargs\u001b[0m\u001b[0;34m.\u001b[0m\u001b[0mpop\u001b[0m\u001b[0;34m(\u001b[0m\u001b[0;34m\"allow_sending_without_reply\"\u001b[0m\u001b[0;34m,\u001b[0m \u001b[0;32mNone\u001b[0m\u001b[0;34m)\u001b[0m \u001b[0;32mif\u001b[0m \u001b[0mkwargs\u001b[0m \u001b[0;32melse\u001b[0m \u001b[0;32mNone\u001b[0m\u001b[0;34m\u001b[0m\u001b[0;34m\u001b[0m\u001b[0m\n\u001b[1;32m   5264\u001b[0m             )\n",
            "\u001b[0;31mAttributeError\u001b[0m: 'int' object has no attribute 'message_id'"
          ]
        }
      ],
      "source": [
        "#!pip install pyTelegramBotAPI\n",
        "#!pip install themoviedb\n",
        "# importing the module\n",
        "from posixpath import join\n",
        "from os import name\n",
        "import string\n",
        "from themoviedb import TMDb\n",
        "import telebot\n",
        "from telebot import types\n",
        "import nest_asyncio\n",
        "nest_asyncio.apply()\n",
        "\n",
        "token = ''\n",
        "bot = telebot.TeleBot(token)\n",
        "Bot_username = '@legendery23_bot'\n",
        "tmdb = TMDb(key=\"\", language=\"En\", region=\"En\")\n",
        "movies_list =[]\n",
        "x = \"-not found-\"\n",
        "\n",
        "#command\n",
        "# Define a command handler\n",
        "@bot.message_handler(commands=['start'])\n",
        "def send_welcome(message):\n",
        "    bot.reply_to(message, \"Welcome to YourBot! Please Enter your desire movie name...\")\n",
        "\n",
        "@bot.message_handler(commands=['help'])\n",
        "def send_help(message):\n",
        "     bot.reply_to(message, \"Enter your desire movie name and we will show you a list of movies according to it.\")\n",
        "\n",
        "# Search bottom\n",
        "@bot.message_handler(commands=['search'])\n",
        "def send_search(message):\n",
        "   markup = telebot.types.ReplyKeyboardMarkup(resize_keyboard=True ,row_width=1)\n",
        "   button = telebot.types.KeyboardButton(text='جستجوی فیلم')\n",
        "   markup.add(button)\n",
        "   bot.send_message(message.chat.id ,\"نام فیلم مورد نظر خود را وارد کنید \",reply_markup=markup)\n",
        "@bot.message_handler()\n",
        "def search_for_movies(message):\n",
        "    processed  = message.text.lower()\n",
        "    print(f'search for : {processed}')\n",
        "    items = tmdb.search( ).movies(processed)\n",
        "\n",
        "    print(f'Movie Itmes : {items} ')\n",
        "    for i in items:\n",
        "      movie_id = i.id\n",
        "      movie = tmdb.movie(movie_id).details(append_to_response=\"credits,external_ids,images,videos\")\n",
        "      print(f'Title : {movie.title} , Year :{movie.year}')\n",
        "      bot.send_message(message.chat.id ,f'{movie.title} : {movie.year} \\n {movie.imdb_url}')\n",
        "      #except not FileNotFoundError as not_found_error  :\n",
        "              # x = not_found_error\n",
        "              # print(x)\n",
        "      #bot.reply_to(message, \"this movie name not found\")\n",
        "    if(items.total_results == 0):\n",
        "      bot.reply_to(message, \"this movie name is incorrect or we can't find...\")\n",
        "\n",
        "'''\n",
        "   processed  = message.lower()\n",
        "   print(processed)\n",
        "   telebot.logger.setLevel(logging.DEBUG) # Outputs debug messages to console.\n",
        "   try:\n",
        "       items = ia.search_movie(processed)\n",
        "       for i in items:\n",
        "          movies_list.append(i)\n",
        "         # buttons = telebot.types.InlineKeyboardButton(i)\n",
        "         # markup = telebot.types.InlineKeyboardMarkup()\n",
        "         # markup.add(buttons)\n",
        "   except not FileNotFoundError as not_found_error  :\n",
        "     x = not_found_error\n",
        "     print(x)\n",
        "   bot.reply_to(message.chat.id, movies_list)\n",
        "   '''\n",
        "'''\n",
        "@bot.message_handler(func=lambda message: True)\n",
        "def echo_message(message):\n",
        "  cid = message.chat.id\n",
        "  mid = message.message_id\n",
        "  message_text = message.text\n",
        "  user_id = message.from_user.id\n",
        "  user_name = message.from_user.first_name\n",
        "'''\n",
        "print('start polling....')\n",
        "bot.polling()\n",
        "\n",
        "\n",
        "\n",
        "\n",
        "\n"
      ]
    }
  ],
  "metadata": {
    "colab": {
      "provenance": [],
      "authorship_tag": "ABX9TyNBjfPpezXZV7KTzYmrfKvl",
      "include_colab_link": true
    },
    "kernelspec": {
      "display_name": "Python 3",
      "name": "python3"
    },
    "language_info": {
      "name": "python"
    }
  },
  "nbformat": 4,
  "nbformat_minor": 0
}

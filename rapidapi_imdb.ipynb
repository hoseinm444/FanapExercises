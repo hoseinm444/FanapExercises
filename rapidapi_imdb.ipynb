{
  "nbformat": 4,
  "nbformat_minor": 0,
  "metadata": {
    "colab": {
      "provenance": [],
      "authorship_tag": "ABX9TyM4iNy2dgtbM3Qc0zpJScC+",
      "include_colab_link": true
    },
    "kernelspec": {
      "name": "python3",
      "display_name": "Python 3"
    },
    "language_info": {
      "name": "python"
    }
  },
  "cells": [
    {
      "cell_type": "markdown",
      "metadata": {
        "id": "view-in-github",
        "colab_type": "text"
      },
      "source": [
        "<a href=\"https://colab.research.google.com/github/hoseinm444/FanapExercises/blob/main/rapidapi_imdb.ipynb\" target=\"_parent\"><img src=\"https://colab.research.google.com/assets/colab-badge.svg\" alt=\"Open In Colab\"/></a>"
      ]
    },
    {
      "cell_type": "code",
      "execution_count": 15,
      "metadata": {
        "colab": {
          "base_uri": "https://localhost:8080/",
          "height": 309
        },
        "id": "udX7DLpu9Xyn",
        "outputId": "0d1b3cd3-fbee-4c0e-97ba-a97fde267e61"
      },
      "outputs": [
        {
          "output_type": "stream",
          "name": "stdout",
          "text": [
            "{\n",
            "    \"status_code\": 7,\n",
            "    \"status_message\": \"Invalid API key: You must be granted a valid key.\",\n",
            "    \"success\": false\n",
            "}\n"
          ]
        },
        {
          "output_type": "error",
          "ename": "KeyError",
          "evalue": "'d'",
          "traceback": [
            "\u001b[0;31m---------------------------------------------------------------------------\u001b[0m",
            "\u001b[0;31mKeyError\u001b[0m                                  Traceback (most recent call last)",
            "\u001b[0;32m<ipython-input-15-5c13a42c485a>\u001b[0m in \u001b[0;36m<cell line: 22>\u001b[0;34m()\u001b[0m\n\u001b[1;32m     35\u001b[0m   \u001b[0mdata_dict\u001b[0m \u001b[0;34m=\u001b[0m \u001b[0mjson\u001b[0m\u001b[0;34m.\u001b[0m\u001b[0mloads\u001b[0m\u001b[0;34m(\u001b[0m\u001b[0mformatted_data\u001b[0m\u001b[0;34m)\u001b[0m\u001b[0;34m\u001b[0m\u001b[0;34m\u001b[0m\u001b[0m\n\u001b[1;32m     36\u001b[0m \u001b[0;34m\u001b[0m\u001b[0m\n\u001b[0;32m---> 37\u001b[0;31m   \u001b[0mresponses\u001b[0m\u001b[0;34m.\u001b[0m\u001b[0mappend\u001b[0m\u001b[0;34m(\u001b[0m\u001b[0mdata_dict\u001b[0m\u001b[0;34m[\u001b[0m\u001b[0;34m\"d\"\u001b[0m\u001b[0;34m]\u001b[0m\u001b[0;34m)\u001b[0m\u001b[0;34m\u001b[0m\u001b[0;34m\u001b[0m\u001b[0m\n\u001b[0m\u001b[1;32m     38\u001b[0m \u001b[0;34m\u001b[0m\u001b[0m\n\u001b[1;32m     39\u001b[0m \u001b[0;31m#print out the results\u001b[0m\u001b[0;34m\u001b[0m\u001b[0;34m\u001b[0m\u001b[0m\n",
            "\u001b[0;31mKeyError\u001b[0m: 'd'"
          ]
        }
      ],
      "source": [
        "#!pip install pyTelegramBotAPI\n",
        "# importing the module\n",
        "import nest_asyncio\n",
        "nest_asyncio.apply()\n",
        "import requests\n",
        "import json\n",
        "# base url that connects us to the server where the moview info is located\n",
        "url = \"https://imdb8.p.rapidapi.com/auto-complete\"\n",
        "\n",
        "# These headers are used o authenticate your connection\n",
        "headers = {\n",
        "\t\"API-Key\": \"\",\n",
        "\t\"X-RapidAPI-Host\": \"imdb8.p.rapidapi.com\"\n",
        "}\n",
        "\n",
        "# These are my keywords I'd like to search for\n",
        "searchTerms = [\"Bad\"]\n",
        "\n",
        "# I store all the responses in a list\n",
        "responses = []\n",
        "\n",
        "# here I loop through the search terms\n",
        "for i in range(len(searchTerms)):\n",
        "\n",
        "  querystring = {\"q\":searchTerms[i]}\n",
        "\n",
        "  # Query the Api and save the result\n",
        "  response = requests.request(\"Get\",url,headers=headers , params = querystring)\n",
        "  data = json.loads(response.text)\n",
        "\n",
        "  formatted_data = json.dumps(data,indent = 4)\n",
        "\n",
        "  print(formatted_data)\n",
        "\n",
        "  data_dict = json.loads(formatted_data)\n",
        "\n",
        "  responses.append(data_dict[\"d\"])\n",
        "\n",
        "#print out the results\n",
        "for x in range(len(searchTerms)):\n",
        "  print(\"\\n\\nSearch Term: \\\"\"+str(searchTerms[x])+\"\\\"\")\n",
        "  for movie in responses[x]:\n",
        "    try:\n",
        "       print(f'Title: {movie[\"l\"]}')\n",
        "       print(\"Image:\" +  movie[\"i\"][\"imageUrl\"])\n",
        "       print(f'Main_characters:{ movie[\"s\"]} ' )\n",
        "       #print(\"Year:\" + movie[])\n",
        "       #print(\"Ranking:\" +  movie[\"rank\"])\n",
        "    except FileNotFoundError as error:\n",
        "      pass\n",
        "      x = error\n",
        "      #print(x)\n",
        "\n",
        "\n",
        "\n",
        "\n",
        "\n",
        "\n",
        "#response = requests.get(url, headers=headers, params=querystring)\n",
        "#print(response.json())\n",
        "\n",
        "\n",
        "\n",
        "\n",
        "#{character}\n",
        "#{company}\n",
        "#{imdburl}\n",
        "#{imdb_cinemagoer}\n",
        "'''\n",
        " title = i['title']\n",
        "    year = i['year']\n",
        "    kind = i['kind']\n",
        "    cover_url =i['cover url']\n",
        "    gener = i['genres']\n",
        "    countries = i['countries']\n",
        "    rating = i['rating']\n",
        "    vote = i['votes']\n",
        "    #character = i[imdb.Character]\n",
        "    print(f'{items[0].keys()}')\n",
        "   # company = i[imdb.Company]\n",
        "    #imdburl = i[imdb.imdbURL_base]\n",
        "   # imdb_cinemagoer = i[imdb.Cinemagoer]\n",
        "    movies_list.append(title)\n",
        "    print(f'{title} :{year} -{kind} -{gener} -{rating}  ')\n",
        "'''"
      ]
    }
  ]
}

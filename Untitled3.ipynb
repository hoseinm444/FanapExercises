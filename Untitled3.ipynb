{
  "nbformat": 4,
  "nbformat_minor": 0,
  "metadata": {
    "colab": {
      "provenance": [],
      "authorship_tag": "ABX9TyPsXWBVs+KCsC2n+fWe7Su4",
      "include_colab_link": true
    },
    "kernelspec": {
      "name": "python3",
      "display_name": "Python 3"
    },
    "language_info": {
      "name": "python"
    }
  },
  "cells": [
    {
      "cell_type": "markdown",
      "metadata": {
        "id": "view-in-github",
        "colab_type": "text"
      },
      "source": [
        "<a href=\"https://colab.research.google.com/github/hoseinm444/FanapExercises/blob/main/Untitled3.ipynb\" target=\"_parent\"><img src=\"https://colab.research.google.com/assets/colab-badge.svg\" alt=\"Open In Colab\"/></a>"
      ]
    },
    {
      "cell_type": "code",
      "execution_count": null,
      "metadata": {
        "id": "7WUEOkJU1SjJ",
        "colab": {
          "base_uri": "https://localhost:8080/"
        },
        "outputId": "5dfa62f8-6ea8-4b26-c169-0076ade7c3c9"
      },
      "outputs": [
        {
          "output_type": "stream",
          "name": "stdout",
          "text": [
            "start polling....\n",
            "search for : day\n",
            "Movie Itmes : Movies(results=[PartialMovie(id=995206, poster_path='/zZFqGmhJMUiTuEJSneIbI7N5sCw.jpg', adult=False, overview=\"After going to extremes to cover up an accident, a corrupt cop's life spirals out of control when he starts receiving threats from a mysterious witness.\", release_date=datetime.date(2023, 5, 19), genre_ids=[53, 80, 28, 18], original_title='最後まで行く', original_language='ja', title='Hard Days', backdrop_path='/eM3mtxc9OMFghS9K0uDc9DWzIrD.jpg', popularity=35.428, vote_count=42, video=False, vote_average=6.619, media_type=<MediaType.movie: 'movie'>), PartialMovie(id=976893, poster_path='/4UyKNimG5VHTcGjOH3z5kJFndLM.jpg', adult=False, overview='Hirayama is content with his life as a toilet cleaner in Tokyo. Outside of his structured routine, he cherishes music on cassette tapes, books, and taking photos of trees. Through unexpected encounters, he reflects on finding beauty in the world.', release_date=datetime.date(2023, 11, 10), genre_ids=[18], original_title='PERFECT DAYS', original_language='ja', title='Perfect Days', backdrop_path='/ae48U4187XzjJ7En7YTAIz2QKQC.jpg', popularity=95.365, vote_count=508, video=False, vote_average=7.9, media_type=<MediaType.movie: 'movie'>), PartialMovie(id=829557, poster_path='/7qU0SOVcQ8BTJLodcAlulUAG16C.jpg', adult=False, overview=\"Laura and Massimo are back and hotter than ever. But the reunited couple's new beginning is complicated by Massimo’s family ties and a mysterious man who enters Laura’s life to win her heart and trust, at any cost.\", release_date=datetime.date(2022, 4, 27), genre_ids=[10749, 18], original_title='365 dni: Ten dzień', original_language='pl', title='365 Days: This Day', backdrop_path='/zBG5Mg29NH9xxpWMMG7BIvKwYhL.jpg', popularity=107.844, vote_count=1322, video=False, vote_average=5.855, media_type=<MediaType.movie: 'movie'>), PartialMovie(id=829560, poster_path='/6FsGeIp7heHm5eh4tIxTzHIRxmt.jpg', adult=False, overview=\"Laura and Massimo's relationship hangs in the balance as they try to overcome trust issues while a tenacious Nacho works to push them apart.\", release_date=datetime.date(2022, 8, 19), genre_ids=[10749, 18], original_title='Kolejne 365 dni', original_language='pl', title='The Next 365 Days', backdrop_path='/luN8SoFuDxxXitmFItkL435BSzk.jpg', popularity=108.454, vote_count=938, video=False, vote_average=6.466, media_type=<MediaType.movie: 'movie'>), PartialMovie(id=72218, poster_path=None, adult=False, overview='', release_date=datetime.date(2009, 1, 1), genre_ids=[28, 18], original_title='Day', original_language='en', title='Day', backdrop_path=None, popularity=1.4, vote_count=3, video=False, vote_average=3.8, media_type=<MediaType.movie: 'movie'>), PartialMovie(id=1157049, poster_path='/rBeAZ1YiwVQSdeiHCWzGtJhKvbV.jpg', adult=False, overview=\"Feeling unhappy with his gun, Jigen is looking for the world’s best gunsmith. He finally finds out that Chiharu, who runs a watch shop, is the person he’s been seeking. Then, Jigen meets Oto, who comes to Chiharu’s shop looking for a gun. Jigen finds out about Oto's secrets and the mysterious organization that’s after her. After Oto is kidnapped, Jigen gets into a desperate battle to save her.\", release_date=datetime.date(2023, 10, 12), genre_ids=[28, 80, 18], original_title='次元大介', original_language='ja', title='Jigen Daisuke', backdrop_path='/7Q6C4Z2Cr2ZrsXg6WcwWCwL27.jpg', popularity=20.732, vote_count=52, video=False, vote_average=6.702, media_type=<MediaType.movie: 'movie'>), PartialMovie(id=855718, poster_path=None, adult=False, overview='A man discovers what the meaning of life is as he experiences severe hallucinations day by day.', release_date=None, genre_ids=[], original_title='Day', original_language='en', title='Day', backdrop_path=None, popularity=1.09, vote_count=0, video=False, vote_average=0.0, media_type=<MediaType.movie: 'movie'>), PartialMovie(id=1031381, poster_path='/ma86ZENVKxV8NHKkGoUhYO57WCe.jpg', adult=False, overview=\"An experimental short film shot on iPhone 7 Plus during the first year of the COVID-19 outbreak. The film depicts a young man's love for arts and his struggle to coexist with his personas.\", release_date=datetime.date(2021, 10, 10), genre_ids=[18, 14], original_title='Day', original_language='en', title='Day', backdrop_path='/1sdK2riKq9RLo8k4XNDvoYwvYF6.jpg', popularity=0.611, vote_count=0, video=False, vote_average=0.0, media_type=<MediaType.movie: 'movie'>), PartialMovie(id=743641, poster_path=None, adult=False, overview='As the world adapts to the challenges of COVID-19, we explore an ordinary day in lockdown and the quiet moments that become routine.', release_date=None, genre_ids=[], original_title='Day', original_language='en', title='Day', backdrop_path=None, popularity=0.84, vote_count=0, video=False, vote_average=0.0, media_type=<MediaType.movie: 'movie'>), PartialMovie(id=1134754, poster_path='/pbeSOr5ODJMHMzR4hbLXhnHNs1S.jpg', adult=False, overview='Zira was united with Amer for 172 very memorable days. Fate separated, Amer left too soon, leaving many sweet memories for Zira.', release_date=datetime.date(2023, 11, 23), genre_ids=[18, 10749], original_title='172 Days', original_language='id', title='172 Days', backdrop_path='/sYKYfeJK83QlwL0ty5gOZ7MazCv.jpg', popularity=20.416, vote_count=19, video=False, vote_average=5.079, media_type=<MediaType.movie: 'movie'>), PartialMovie(id=753601, poster_path='/pWPTnHtvlmggjGonie1VZNKViLV.jpg', adult=False, overview='Passepartout is a young and scholarly marmoset who always dreams of becoming an explorer. One day, he crosses paths with Phileas, a reckless and greedy frog, eager to take on a bet to circumnavigate the globe in 80 days and earn 10 million clams in the process. Seizing the opportunity of a lifetime to explore the world, Passepartout embarks with his new friend on a crazy and exhilarating adventure full of twists and surprises.', release_date=datetime.date(2021, 8, 4), genre_ids=[16, 10751, 35], original_title='Le Tour du monde en 80 jours', original_language='fr', title='Around the World in 80 Days', backdrop_path='/ghSMYISXNxjduDuvzYoPYOI3yRk.jpg', popularity=41.48, vote_count=55, video=False, vote_average=5.4, media_type=<MediaType.movie: 'movie'>), PartialMovie(id=1052865, poster_path='/fMaxCjekSd9g4qyyAEYm3cvckui.jpg', adult=False, overview='Sri accepts a generous job offer and tasked to perform a cleansing ritual for Dela Atmojo, an unconscious girl who is suffering from the hex of 1000-days. The terror begins when her coworker neglects to finish the ritual. Failing to perform until the 1000th day will result in their demise.', release_date=datetime.date(2023, 4, 19), genre_ids=[27, 9648], original_title='Sewu Dino', original_language='id', title='A Thousand Days', backdrop_path='/tDcCX1rSJZomkMKi8CfwcZUy0Tx.jpg', popularity=4.477, vote_count=12, video=False, vote_average=7.0, media_type=<MediaType.movie: 'movie'>), PartialMovie(id=518068, poster_path='/9BnqBHFGDv3WlCPB2qQwzAWdy7y.jpg', adult=False, overview='As the deceased soul Ja-hong and his three afterlife guardians prepare for their remaining trials for reincarnation, the guardians soon come face to face with the truth of their tragic time on Earth 1,000 years earlier.', release_date=datetime.date(2018, 8, 1), genre_ids=[28, 12, 14, 53], original_title='신과함께-인과 연', original_language='ko', title='Along with the Gods: The Last 49 Days', backdrop_path='/ul4WiN9EJxsMokdg7z4Y6iisvHS.jpg', popularity=48.934, vote_count=564, video=False, vote_average=8.109, media_type=<MediaType.movie: 'movie'>), PartialMovie(id=297580, poster_path='/rhk41QzLibidKUBE9KbWlW5z1Wf.jpg', adult=False, overview='Welcome to Egypt, land of the Pharaohs. A place steeped in history and legend; Gods and spiritual guides; untold wealth – and the bone-cracking, blood-spilling guardians of its riches.  Jack Wells has arrived in Egypt in search of the famous diamond known as The Codex Stone. His journey leads him to the tomb of the cursed King Neferu, cursed not by name but by nature. With his centuries-old slumber disturbed by timeless human greed, the King rises from the dead with a blood-lust that cannot be quenched and a raging fury that will shred flesh from bone, bringing terrible and tormented death to all who dare witness the Day of the Mummy.', release_date=datetime.date(2014, 10, 20), genre_ids=[12, 27, 28], original_title='Day of the Mummy', original_language='en', title='Day of the Mummy', backdrop_path='/3m4dL16ALJUqdpKVgo81NRVHSR3.jpg', popularity=4.894, vote_count=36, video=False, vote_average=5.139, media_type=<MediaType.movie: 'movie'>), PartialMovie(id=1107872, poster_path='/wws9Z90DdZ7D0n3gdzFSZ6cntJi.jpg', adult=False, overview='Nina, a former NATO special operations agent living in hiding, has to use all her deadly skills to rescue her son who has been kidnapped by ruthless gangsters. Finding Max is a double opportunity for her. A chance to feel the adrenaline rush again, and an opportunity to get back into the life of the son she had to abandon years ago.', release_date=datetime.date(2023, 5, 24), genre_ids=[53], original_title='Dzień Matki', original_language='pl', title=\"Mother's Day\", backdrop_path='/AfiFDBdgRVqmoc0XK2FqeI3WpLL.jpg', popularity=23.243, vote_count=198, video=False, vote_average=5.838, media_type=<MediaType.movie: 'movie'>), PartialMovie(id=357416, poster_path='/udwsBqWEVlDSkXQUNDfLP4r0aUi.jpg', adult=False, overview='A prequel to the 2013 Kyoto Animation series Free! which is an adaptation of light novel High☆Speed!', release_date=datetime.date(2015, 12, 5), genre_ids=[16, 18, 35], original_title='映画 ハイ☆スピード！-Free! Starting Days-', original_language='ja', title='High☆Speed!: Free! Starting Days', backdrop_path='/iwGWyIElci1evw2Qa64Op1brxwx.jpg', popularity=11.367, vote_count=43, video=False, vote_average=6.8, media_type=<MediaType.movie: 'movie'>), PartialMovie(id=919207, poster_path='/qYczuua2tgjfxcdtLNDC0n4mOHz.jpg', adult=False, overview='After the assassination of President Park, martial law has been declared. A coup d’état bursts out by Defense Security Commander Chun Doo-gwang and a private band of officers following him. Capital Defense Commander Lee Tae-shin, an obstinate soldier who believes the military should not take political actions, fights against Chun Doo-gwang to stop him. The conflict between the two grows while military leaders are holding their decision and Defense Minister is gone. In the midst of chaos, the spring of Seoul that everyone longed for heads to unexpected direction.', release_date=datetime.date(2023, 11, 22), genre_ids=[18, 36, 10752, 53, 80], original_title='서울의 봄', original_language='ko', title='12.12: The Day', backdrop_path='/kcrjQkK9XlUe0yD1cZptf4z5h3v.jpg', popularity=28.937, vote_count=46, video=False, vote_average=7.2, media_type=<MediaType.movie: 'movie'>), PartialMovie(id=166666, poster_path='/jQ7aucozEWiz1cBCdZtcYSJfWC7.jpg', adult=False, overview='A young Austrian girl is kidnapped and held in captivity for eight years. Based on the real-life case of Natascha Kampusch.', release_date=datetime.date(2013, 2, 21), genre_ids=[18], original_title='3096 Tage', original_language='de', title='3096 Days', backdrop_path='/dzm6sNpz9UwG208xyGKAJ6e4ybA.jpg', popularity=20.308, vote_count=846, video=False, vote_average=7.431, media_type=<MediaType.movie: 'movie'>), PartialMovie(id=538751, poster_path='/bakeCMpKkoBZeHwVDjPT3sMolMo.jpg', adult=False, overview='Min-ho and Jeong-il end up working with each other\\'s wives one day. As time passes, the men feel attracted physically to their friend\\'s wives. In the end, Jeong-il suggests to Min-ho, \"Let\\'s not take sides and just be happy as the four of us!\" They start swapping each other.', release_date=datetime.date(2017, 7, 10), genre_ids=[10749], original_title='스와핑 하던 날', original_language='ko', title='The Day of Swapping', backdrop_path='/baTbwu5lQYOuBoIBN1AmRptwcoU.jpg', popularity=14.961, vote_count=9, video=False, vote_average=5.2, media_type=<MediaType.movie: 'movie'>), PartialMovie(id=1196768, poster_path='/xM1yX980L50kjyGuvhykkz4utry.jpg', adult=False, overview=\"A sudden death reunites the Garcias and San Roman. Lidia and Manuel fight for their romance, but Francisco moves into the house. Lydia's promotion means settling in Monterey. Rosa manages her husband's memory while trying to bring Jaime into her life. The two families deal with death differently and prepare for a new life.\", release_date=datetime.date(2023, 10, 26), genre_ids=[35], original_title='¡Hasta la madre! del Día de los muertos', original_language='es', title='The Day of the Dead Is Cancelled', backdrop_path='/8JFg1Ig00BHCqpetWIgJdsTlQuo.jpg', popularity=5.146, vote_count=4, video=False, vote_average=7.0, media_type=<MediaType.movie: 'movie'>)], id=None, page=1, dates=None, total_pages=425, total_results=8495) \n"
          ]
        },
        {
          "output_type": "stream",
          "name": "stderr",
          "text": [
            "2024-03-06 03:10:24,121 (__init__.py:1147 MainThread) ERROR - TeleBot: \"Threaded polling exception: A request to the Telegram API was unsuccessful. Error code: 400. Description: Bad Request: can't parse inline keyboard button: Text buttons are unallowed in the inline keyboard\"\n",
            "ERROR:TeleBot:Threaded polling exception: A request to the Telegram API was unsuccessful. Error code: 400. Description: Bad Request: can't parse inline keyboard button: Text buttons are unallowed in the inline keyboard\n",
            "2024-03-06 03:10:24,127 (__init__.py:1149 MainThread) ERROR - TeleBot: \"Exception traceback:\n",
            "Traceback (most recent call last):\n",
            "  File \"/usr/local/lib/python3.10/dist-packages/telebot/__init__.py\", line 1141, in __threaded_polling\n",
            "    self.worker_pool.raise_exceptions()\n",
            "  File \"/usr/local/lib/python3.10/dist-packages/telebot/util.py\", line 149, in raise_exceptions\n",
            "    raise self.exception_info\n",
            "  File \"/usr/local/lib/python3.10/dist-packages/telebot/util.py\", line 92, in run\n",
            "    task(*args, **kwargs)\n",
            "  File \"/usr/local/lib/python3.10/dist-packages/telebot/__init__.py\", line 7868, in _run_middlewares_and_handler\n",
            "    result = handler['function'](message)\n",
            "  File \"<ipython-input-10-590ede09ba29>\", line 71, in search_for_movies\n",
            "    bot.send_message(message.chat.id,text =\"movies : \",reply_markup=markup)\n",
            "  File \"/usr/local/lib/python3.10/dist-packages/telebot/__init__.py\", line 1673, in send_message\n",
            "    apihelper.send_message(\n",
            "  File \"/usr/local/lib/python3.10/dist-packages/telebot/apihelper.py\", line 264, in send_message\n",
            "    return _make_request(token, method_url, params=payload, method='post')\n",
            "  File \"/usr/local/lib/python3.10/dist-packages/telebot/apihelper.py\", line 164, in _make_request\n",
            "    json_result = _check_result(method_name, result)\n",
            "  File \"/usr/local/lib/python3.10/dist-packages/telebot/apihelper.py\", line 191, in _check_result\n",
            "    raise ApiTelegramException(method_name, result, result_json)\n",
            "telebot.apihelper.ApiTelegramException: A request to the Telegram API was unsuccessful. Error code: 400. Description: Bad Request: can't parse inline keyboard button: Text buttons are unallowed in the inline keyboard\n",
            "\"\n",
            "ERROR:TeleBot:Exception traceback:\n",
            "Traceback (most recent call last):\n",
            "  File \"/usr/local/lib/python3.10/dist-packages/telebot/__init__.py\", line 1141, in __threaded_polling\n",
            "    self.worker_pool.raise_exceptions()\n",
            "  File \"/usr/local/lib/python3.10/dist-packages/telebot/util.py\", line 149, in raise_exceptions\n",
            "    raise self.exception_info\n",
            "  File \"/usr/local/lib/python3.10/dist-packages/telebot/util.py\", line 92, in run\n",
            "    task(*args, **kwargs)\n",
            "  File \"/usr/local/lib/python3.10/dist-packages/telebot/__init__.py\", line 7868, in _run_middlewares_and_handler\n",
            "    result = handler['function'](message)\n",
            "  File \"<ipython-input-10-590ede09ba29>\", line 71, in search_for_movies\n",
            "    bot.send_message(message.chat.id,text =\"movies : \",reply_markup=markup)\n",
            "  File \"/usr/local/lib/python3.10/dist-packages/telebot/__init__.py\", line 1673, in send_message\n",
            "    apihelper.send_message(\n",
            "  File \"/usr/local/lib/python3.10/dist-packages/telebot/apihelper.py\", line 264, in send_message\n",
            "    return _make_request(token, method_url, params=payload, method='post')\n",
            "  File \"/usr/local/lib/python3.10/dist-packages/telebot/apihelper.py\", line 164, in _make_request\n",
            "    json_result = _check_result(method_name, result)\n",
            "  File \"/usr/local/lib/python3.10/dist-packages/telebot/apihelper.py\", line 191, in _check_result\n",
            "    raise ApiTelegramException(method_name, result, result_json)\n",
            "telebot.apihelper.ApiTelegramException: A request to the Telegram API was unsuccessful. Error code: 400. Description: Bad Request: can't parse inline keyboard button: Text buttons are unallowed in the inline keyboard\n",
            "\n"
          ]
        }
      ],
      "source": [
        "from typing_extensions import Self\n",
        "from ast import Add\n",
        "#!pip install pyTelegramBotAPI\n",
        "#!pip install themoviedb\n",
        "# importing the module\n",
        "import json\n",
        "from os import name\n",
        "import string\n",
        "from themoviedb import TMDb\n",
        "import telebot\n",
        "from telebot.types import InlineKeyboardButton,InlineKeyboardMarkup\n",
        "\n",
        "\n",
        "token = ''\n",
        "bot = telebot.TeleBot(token)\n",
        "#Bot_username = '@legendery23_bot'\n",
        "tmdb = TMDb(key=\"\", language=\"En\", region=\"En\")\n",
        "###########x = \"-not found-\"\n",
        "\n",
        "#command\n",
        "# Define a command handler\n",
        "@bot.message_handler(commands=['start'])\n",
        "def send_welcome(message):\n",
        "  print(\"start button ...\\n\") #for debugging\n",
        "  bot.reply_to(message, \"Welcome to YourBot! Please Enter your desire movie name...\")\n",
        "\n",
        "@bot.message_handler(commands=['help'])\n",
        "def send_help(message):\n",
        "  print(\"help button ...\\n\") #for debugging\n",
        "  bot.reply_to(message, \"Enter your desire movie name and we will show you a list of movies according to it.\")\n",
        "\n",
        "\n",
        "# Search bottom\n",
        "@bot.message_handler(commands=['search'])\n",
        "def send_search(message):\n",
        "  print(\"search button ...\\n\") #for debugging\n",
        "  markup = telebot.types.ReplyKeyboardMarkup(resize_keyboard=True ,row_width=1)\n",
        "  button = telebot.types.KeyboardButton(text='جستجوی فیلم')\n",
        "  markup.add(button)\n",
        "  bot.send_message(message.chat.id ,\"نام فیلم مورد نظر خود را وارد کنید \",reply_markup=markup)\n",
        "\n",
        "@bot.message_handler()\n",
        "def search_for_movies(message=\"Bad\"):\n",
        "    processed  = message.text.lower()\n",
        "    print(f'search for : {processed}')\n",
        "    items = tmdb.search( ).movies(processed)\n",
        "    movies_list =[]\n",
        "    id_list = []\n",
        "    Title_list = []\n",
        "    Year_list = []\n",
        "    Imdb_url_list = []\n",
        "    popularity_list = []\n",
        "    dict = {}\n",
        "    #movie_convert_to_json = json.dumps(items)\n",
        "    print(f'Movie Itmes : {items} ')\n",
        "    for i in items:\n",
        "      #for i in range(1,row):\n",
        "         movie_id = i.id\n",
        "         movie = tmdb.movie(movie_id).details(append_to_response=\"credits,external_ids,images,videos\")\n",
        "         movie_id_str = str(movie.id)\n",
        "         id_list.append(movie.id)\n",
        "         Title_list.append(movie.title)\n",
        "         Year_list.append(movie.year)\n",
        "         Imdb_url_list.append(movie.imdb_url)\n",
        "         popularity_list.append(movie.popularity)\n",
        "         dict.__setitem__(movie_id_str, movie.imdb_url)\n",
        "    markup = telebot.types.InlineKeyboardMarkup()\n",
        "    for key, value in dict.items():\n",
        "       markup.add(telebot.types.InlineKeyboardButton(text=key,callback_data=key),\n",
        "                  telebot.types.InlineKeyboardButton(text='imdb url',callback_data=value))\n",
        "       bot.send_message(message.chat.id,text =\"movies : \",reply_markup=markup)\n",
        "    if(items.total_results == 0):\n",
        "      bot.send_message(message, \"this movie name is incorrect or we can't find...\")\n",
        "\n",
        "\n",
        "#button_1 = telebot.types.InlineKeyboardButton(text=\"Imdb url\", url=movie.imdb_url)\n",
        "      #button_2 = telebot.types.InlineKeyboardButton(text = \"جزيیات\",callback_data=movie_id)\n",
        "      #markup = telebot.types.InlineKeyboardMarkup().add(button_1,button_2)\n",
        "print('start polling....')\n",
        "#dp.start_polling(dp)\n",
        "bot.polling()\n"
      ]
    }
  ]
}
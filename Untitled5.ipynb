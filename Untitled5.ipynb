{
  "nbformat": 4,
  "nbformat_minor": 0,
  "metadata": {
    "colab": {
      "provenance": [],
      "authorship_tag": "ABX9TyNogAlut4aEM/JYAnBExPBM",
      "include_colab_link": true
    },
    "kernelspec": {
      "name": "python3",
      "display_name": "Python 3"
    },
    "language_info": {
      "name": "python"
    }
  },
  "cells": [
    {
      "cell_type": "markdown",
      "metadata": {
        "id": "view-in-github",
        "colab_type": "text"
      },
      "source": [
        "<a href=\"https://colab.research.google.com/github/hoseinm444/FanapExercises/blob/main/Untitled5.ipynb\" target=\"_parent\"><img src=\"https://colab.research.google.com/assets/colab-badge.svg\" alt=\"Open In Colab\"/></a>"
      ]
    },
    {
      "cell_type": "code",
      "source": [
        "character_pages = [\n",
        "    '*Harry*\\nHarry Potter is the Boy Who Lived, the Chosen One, the hero of the Wizarding world. He grew up with Muggles, and then came to Hogwarts where he faced dangers and terrors beyond his years. He, along with his friends Hermione Granger, Ron Weasley and Neville Longbottom, destroyed Voldemort’s Horcruxes. Harry faced Voldemort at the end of a climactic battle in Hogwarts castle and defeated him.',\n",
        "    '*Dumbledore*\\nAlbus Dumbledore was the Headmaster of Hogwarts for close to forty years, a time period that encompassed both of Voldemort’s attempts to take over the Wizarding world. Considered to be the most powerful wizard of his time, Dumbledore was awarded the Order of Merlin, First Class, and was the Supreme Mugwump of the International Confederation of Wizards as well as the Chief Warlock of the Wizengamot.',\n",
        "    '*Voldemort*\\nLord Voldemort, born Tom Marvolo Riddle, was the son of Merope Gaunt (a descendent of Salazar Slytherin) and Tom Riddle, a handsome, wealthy Muggle from Little Hangleton whom Merope ensnared with a love potion. When her husband found out she was a witch, he abandoned her while she was pregnant (HBP10). Tom’s mother died shortly after giving birth to him one December 31, living just long enough to name him Tom Riddle, after his father and Marvolo, after his grandfather.',\n",
        "    '*Snape*\\nSeverus Snape was Potions Master, Defense Against the Dark Arts teacher, and Head of Slytherin at Hogwarts School of Witchcraft and Wizardry; he succeeded Dumbledore as Headmaster. He was personally killed by Lord Voldemort and his snake, Nagini.',\n",
        "    '*Sirius*\\nSirius Black was James Potter’s closest friend, Harry Potter’s godfather, and an Animagus, who was falsely accused of betrayal and murder and imprisoned in Azkaban.',\n",
        "    '*Hermione*\\nResourceful, principled and brilliant, Hermione Jean Granger is easily the brightest witch of her generation. She, along with Ron Weasley, is one of Harry Potter’s closest friends. She is also Muggle-born (her parents were dentists – PS12), and so is a living, breathing example of the fallacy of pureblood wizard supremacy.',\n",
        "    '*Ron*\\nRon Weasley is Harry Potter’s best friend and the youngest son of Molly and Arthur Weasley. The story of Ron’s life is one of being overshadowed by his family and friends, yet it is Ron’s heart and humor that have solidified his friendships and given those around him the support they needed to carry through (BLC). ',\n",
        "    '*Draco*\\nDraco Malfoy is the son and only child of Lucius and Narcissa Malfoy and was a student at Hogwarts in the same year as Harry Potter. He is a rival of Harry, actively trying to undermine him in any way he can. Draco has white-blond hair and a pale, pointed face. He owns an eagle owl which made almost daily deliveries of sweets from home. Draco became the Slytherin Quidditch Seeker after his father made a generous donation of Nimbus 2001 brooms to the team (CS7).',\n",
        "    '*Hagrid*\\nRubeus Hagrid is a half-giant with shaggy hair and a “wild, tangled beard” (PS1) who serves as the Keeper of Keys and Grounds, Gamekeeper, and Care of Magical Creatures professor at Hogwarts (PS4, PA6).',\n",
        "    '*Dobby*\\nDobby was a house-elf, for years indentured to the Malfoy family, until his admiration for Harry Potter goaded him into trying to warn Harry against coming to school in his second year because he knew what Lucius was planning with the diary.',\n",
        "    '*Moody*\\nAlastor “Mad-Eye” Moody is a retired Auror, considered one of the best Dark Wizard catchers the Ministry has ever had.',\n",
        "]"
      ],
      "metadata": {
        "id": "9w5_Zw0W-Udt"
      },
      "execution_count": null,
      "outputs": []
    },
    {
      "cell_type": "code",
      "execution_count": null,
      "metadata": {
        "colab": {
          "base_uri": "https://localhost:8080/"
        },
        "id": "h440X0cczcXc",
        "outputId": "f79f678f-d0b5-4053-bdd8-815bd1d4f6bb"
      },
      "outputs": [
        {
          "output_type": "stream",
          "name": "stdout",
          "text": [
            "starting bot...\n",
            "Polling....\n"
          ]
        },
        {
          "output_type": "stream",
          "name": "stderr",
          "text": [
            "<ipython-input-5-d82aa7c0e5f2>:30: RuntimeWarning: coroutine 'CallbackQuery.answer' was never awaited\n",
            "  query.answer()\n",
            "RuntimeWarning: Enable tracemalloc to get the object allocation traceback\n"
          ]
        }
      ],
      "source": [
        "#!pip install python-telegram-bot\n",
        "#!pip install python-telegram-bot-pagination\n",
        "\n",
        "from telegram import InlineKeyboardButton\n",
        "from telegram.ext import Updater, CommandHandler, CallbackQueryHandler ,Application\n",
        "from telegram_bot_pagination import InlineKeyboardPaginator\n",
        "import nest_asyncio ,asyncio\n",
        "nest_asyncio.apply()\n",
        "\n",
        "from data import character_pages\n",
        "\n",
        "\n",
        "async def search(update, context):\n",
        "\n",
        "    paginator = InlineKeyboardPaginator(len(character_pages),data_pattern='character#{page}')\n",
        "\n",
        "    await update.message.reply_text(text=character_pages[0],reply_markup=paginator.markup,parse_mode='Markdown')\n",
        "\n",
        "\n",
        "async def characters_page_callback(update, context):\n",
        "    query = update.callback_query\n",
        "\n",
        "    await query.answer()\n",
        "\n",
        "    page = int(query.data.split('#')[1])\n",
        "\n",
        "    paginator = InlineKeyboardPaginator(len(character_pages),current_page=page,data_pattern='character#{page}')\n",
        "\n",
        "    paginator.add_before(\n",
        "        InlineKeyboardButton('Like', callback_data='like#{}'.format(page)),\n",
        "        InlineKeyboardButton('Dislike', callback_data='dislike#{}'.format(page))\n",
        "                         )\n",
        "    paginator.add_after(InlineKeyboardButton('Go back', callback_data='back'))\n",
        "\n",
        "    await query.edit_message_text(text=character_pages[page - 1],reply_markup=paginator.markup,parse_mode='Markdown')\n",
        "\n",
        "\n",
        "if __name__ == '__main__' :\n",
        "   # this for debugging\n",
        "   print('starting bot...')\n",
        "   updater = Application.builder().token('6433145771:AAF0pjMfaLqFJ8JX-4M8NtxkKMpg9Hd_eRM').build()\n",
        "\n",
        "   updater.add_handler(CommandHandler('search', search))\n",
        "   updater.add_handler(CallbackQueryHandler(characters_page_callback, pattern='^character#'))\n",
        "\n",
        "   print('Polling....')\n",
        "   updater.run_polling(poll_interval=3)"
      ]
    }
  ]
}